{
 "cells": [
  {
   "cell_type": "markdown",
   "metadata": {
    "id": "xrvOD02o3HvH"
   },
   "source": [
    "# Домашнее задание 6: классификация текстов"
   ]
  },
  {
   "cell_type": "markdown",
   "metadata": {
    "id": "sxwj_Iie3HvJ"
   },
   "source": [
    "В этом домашнем задании вам предстоит построить классификатор текстов!\n",
    "\n",
    "Данные мы будем использовать из Kaggle соревнования: https://www.kaggle.com/competitions/nlp-getting-started/data \n",
    "\n",
    "\n",
    "Оттуда надо скачать файл train.csv. На обучающую и тестовую выборки его поделим кодом ниже, менять его не надо!"
   ]
  },
  {
   "cell_type": "markdown",
   "metadata": {
    "id": "qQVgqLg93HvJ"
   },
   "source": [
    "Мы будем работать с датасетом постов из твиттера. Нам предстоит решать задачу бинарной классификации - определять содержатся ли в твитте информация о настоящей катастрофе/инциденте или нет."
   ]
  },
  {
   "cell_type": "code",
   "execution_count": 1,
   "metadata": {
    "id": "TcjEYh7R3HvK",
    "ExecuteTime": {
     "end_time": "2023-05-08T11:59:09.809842800Z",
     "start_time": "2023-05-08T11:59:09.796353500Z"
    }
   },
   "outputs": [],
   "source": [
    "import pandas as pd\n",
    "from typing import  List\n",
    "import matplotlib.pyplot as plt\n",
    "import seaborn as sns\n",
    "from string import punctuation"
   ]
  },
  {
   "cell_type": "code",
   "execution_count": 2,
   "metadata": {
    "id": "mjwffGiB3HvK",
    "ExecuteTime": {
     "end_time": "2023-05-08T11:59:09.868530100Z",
     "start_time": "2023-05-08T11:59:09.812853100Z"
    }
   },
   "outputs": [
    {
     "data": {
      "text/plain": "   id keyword location                                               text  \\\n0   1     NaN      NaN  Our Deeds are the Reason of this #earthquake M...   \n1   4     NaN      NaN             Forest fire near La Ronge Sask. Canada   \n2   5     NaN      NaN  All residents asked to 'shelter in place' are ...   \n3   6     NaN      NaN  13,000 people receive #wildfires evacuation or...   \n4   7     NaN      NaN  Just got sent this photo from Ruby #Alaska as ...   \n\n   target  \n0       1  \n1       1  \n2       1  \n3       1  \n4       1  ",
      "text/html": "<div>\n<style scoped>\n    .dataframe tbody tr th:only-of-type {\n        vertical-align: middle;\n    }\n\n    .dataframe tbody tr th {\n        vertical-align: top;\n    }\n\n    .dataframe thead th {\n        text-align: right;\n    }\n</style>\n<table border=\"1\" class=\"dataframe\">\n  <thead>\n    <tr style=\"text-align: right;\">\n      <th></th>\n      <th>id</th>\n      <th>keyword</th>\n      <th>location</th>\n      <th>text</th>\n      <th>target</th>\n    </tr>\n  </thead>\n  <tbody>\n    <tr>\n      <th>0</th>\n      <td>1</td>\n      <td>NaN</td>\n      <td>NaN</td>\n      <td>Our Deeds are the Reason of this #earthquake M...</td>\n      <td>1</td>\n    </tr>\n    <tr>\n      <th>1</th>\n      <td>4</td>\n      <td>NaN</td>\n      <td>NaN</td>\n      <td>Forest fire near La Ronge Sask. Canada</td>\n      <td>1</td>\n    </tr>\n    <tr>\n      <th>2</th>\n      <td>5</td>\n      <td>NaN</td>\n      <td>NaN</td>\n      <td>All residents asked to 'shelter in place' are ...</td>\n      <td>1</td>\n    </tr>\n    <tr>\n      <th>3</th>\n      <td>6</td>\n      <td>NaN</td>\n      <td>NaN</td>\n      <td>13,000 people receive #wildfires evacuation or...</td>\n      <td>1</td>\n    </tr>\n    <tr>\n      <th>4</th>\n      <td>7</td>\n      <td>NaN</td>\n      <td>NaN</td>\n      <td>Just got sent this photo from Ruby #Alaska as ...</td>\n      <td>1</td>\n    </tr>\n  </tbody>\n</table>\n</div>"
     },
     "execution_count": 2,
     "metadata": {},
     "output_type": "execute_result"
    }
   ],
   "source": [
    "data = pd.read_csv('train.csv')\n",
    "data.head()"
   ]
  },
  {
   "cell_type": "code",
   "execution_count": 3,
   "metadata": {
    "id": "f49NdWY23HvL",
    "ExecuteTime": {
     "end_time": "2023-05-08T11:59:10.589218300Z",
     "start_time": "2023-05-08T11:59:09.863518700Z"
    }
   },
   "outputs": [],
   "source": [
    "from sklearn.model_selection import train_test_split\n",
    "\n",
    "train, test = train_test_split(data, test_size=0.3, random_state=42)"
   ]
  },
  {
   "cell_type": "markdown",
   "metadata": {
    "id": "YlLemInT3HvL"
   },
   "source": [
    "## Задание 1 (0.5 балла)\n",
    "\n",
    "Выведете на экран информацию о пропусках в данных. Если пропуски присутствуют заполните их пустой строкой."
   ]
  },
  {
   "cell_type": "code",
   "execution_count": 4,
   "metadata": {
    "id": "96aJxmkV4105",
    "ExecuteTime": {
     "end_time": "2023-05-08T11:59:10.594212900Z",
     "start_time": "2023-05-08T11:59:10.564213500Z"
    }
   },
   "outputs": [
    {
     "name": "stdout",
     "output_type": "stream",
     "text": [
      "Количество пропусков в тренировочной выборке: 1804\n",
      "Количество пропусков в тестовой выборке: 790\n",
      "Количество пропусков в тренировочной выборке после заполнения: 0\n",
      "Количество пропусков в тестовой выборке после заполнения: 0\n"
     ]
    }
   ],
   "source": [
    "print('Количество пропусков в тренировочной выборке:', train.isnull().sum().sum())\n",
    "print('Количество пропусков в тестовой выборке:', test.isnull().sum().sum())\n",
    "train.fillna('', inplace=True)\n",
    "test.fillna('', inplace=True)\n",
    "print('Количество пропусков в тренировочной выборке после заполнения:', train.isnull().sum().sum())\n",
    "print('Количество пропусков в тестовой выборке после заполнения:', test.isnull().sum().sum())"
   ]
  },
  {
   "cell_type": "markdown",
   "metadata": {
    "id": "A8CPBUal3HvL"
   },
   "source": [
    "## Задание 2 (1 балл)\n",
    "Давайте немного посмотрим на наши данные. Визуализируйте (где явно просят) или выведете информацию о следующем:\n",
    "\n",
    "1. Какое распределение классов в обучающей выборке?\n"
   ]
  },
  {
   "cell_type": "code",
   "execution_count": 5,
   "metadata": {
    "id": "WvJ_EU9o5BGm",
    "ExecuteTime": {
     "end_time": "2023-05-08T11:59:10.607212600Z",
     "start_time": "2023-05-08T11:59:10.592213300Z"
    }
   },
   "outputs": [
    {
     "name": "stdout",
     "output_type": "stream",
     "text": [
      "Количество элементов каждого класса в обучающей выборке:\n",
      "0    3024\n",
      "1    2305\n",
      "Name: target, dtype: int64\n"
     ]
    }
   ],
   "source": [
    "class_distribution = train['target'].value_counts()\n",
    "print(f'Количество элементов каждого класса в обучающей выборке:\\n{class_distribution}')"
   ]
  },
  {
   "cell_type": "markdown",
   "metadata": {
    "id": "f08KScbP5q2y"
   },
   "source": [
    "2. Посмотрите на колонку \"keyword\" - возьмите 10 наиболее встречающихся значений, постройте ступенчатую диаграмму распределения классов в зависимости от значения keyword, сделайте выводы."
   ]
  },
  {
   "cell_type": "code",
   "execution_count": 6,
   "metadata": {
    "id": "WSCb0htu5w_Y",
    "ExecuteTime": {
     "end_time": "2023-05-08T11:59:10.696213800Z",
     "start_time": "2023-05-08T11:59:10.609212300Z"
    }
   },
   "outputs": [
    {
     "name": "stdout",
     "output_type": "stream",
     "text": [
      "10 наиболее встречающихся значений в колонке `keyword`:\n",
      "damage        36\n",
      "siren         35\n",
      "wreckage      34\n",
      "fatalities    33\n",
      "deluge        31\n",
      "refugees      30\n",
      "derail        30\n",
      "fear          30\n",
      "tsunami       30\n",
      "fatality      30\n",
      "Name: keyword, dtype: int64\n"
     ]
    }
   ],
   "source": [
    "popular_keywords = train['keyword'].value_counts().head(11)\n",
    "popular_keywords = popular_keywords.drop('') # удаляем значения с пустой строкой\n",
    "print(f'10 наиболее встречающихся значений в колонке `keyword`:\\n{popular_keywords}')"
   ]
  },
  {
   "cell_type": "code",
   "execution_count": 7,
   "metadata": {
    "ExecuteTime": {
     "end_time": "2023-05-08T11:59:10.971227500Z",
     "start_time": "2023-05-08T11:59:10.626213800Z"
    }
   },
   "outputs": [
    {
     "data": {
      "text/plain": "<Figure size 1000x500 with 1 Axes>",
      "image/png": "[encoded data removed]"
     },
     "metadata": {},
     "output_type": "display_data"
    }
   ],
   "source": [
    "top_keywords = train[train['keyword'].isin(popular_keywords.index)]\n",
    "sns.displot(data=top_keywords, x='keyword', hue='target',  element='step',\n",
    "            height=5, aspect=2, legend=False)\n",
    "plt.legend(title='target', loc='upper right', labels=[1, 0])\n",
    "plt.show()"
   ]
  },
  {
   "cell_type": "markdown",
   "metadata": {
    "id": "l4al3g9E-P09"
   },
   "source": [
    "**Выводы**:\n",
    "На графике видно, что распределение классов по ключевым словам неоднородно. Например  `wreckage`, показывает высокую вероятность того, что твит относится к `(target=1)`, в то время как другие ключевые слова, такие как `[siren, deluge, fatality, fear]`, чаще относится к `(target=0)`. Из этого следует, что ключевые слова могут быть важным признаком для предсказания целевой переменной. Это может помочь улучшить качество модели для классификации твитов на катастрофические и не катастрофические."
   ]
  },
  {
   "cell_type": "markdown",
   "metadata": {
    "id": "c006nNBP3HvM"
   },
   "source": [
    "## Задание 3 (0.5 балла) \n",
    "\n",
    "В этом задании предлагается объединить все три текстовых столбца в один (просто сконкатенировать cтроки) и убрать столбец с индексом."
   ]
  },
  {
   "cell_type": "code",
   "execution_count": 8,
   "metadata": {
    "colab": {
     "base_uri": "https://localhost:8080/",
     "height": 143
    },
    "id": "GdF9gFmL-c0r",
    "outputId": "ebe008b7-4d0e-4bc2-89f3-60a575c1b1fd",
    "ExecuteTime": {
     "end_time": "2023-05-08T11:59:10.972212600Z",
     "start_time": "2023-05-08T11:59:10.966213900Z"
    }
   },
   "outputs": [
    {
     "data": {
      "text/plain": "         id          keyword      location  \\\n6590   9436        survivors  Marietta, GA   \n7122  10203  violent%20storm                 \n2769   3980      devastation  Atlanta g.a.   \n\n                                                   text  target  \n6590  Stemming from my #Cubs talk- the team rosters ...       1  \n7122  If you were the NWS wth a rotating storm w/ a ...       1  \n2769  http://t.co/Gxgm1T3W0J From Devastation to Ela...       0  ",
      "text/html": "<div>\n<style scoped>\n    .dataframe tbody tr th:only-of-type {\n        vertical-align: middle;\n    }\n\n    .dataframe tbody tr th {\n        vertical-align: top;\n    }\n\n    .dataframe thead th {\n        text-align: right;\n    }\n</style>\n<table border=\"1\" class=\"dataframe\">\n  <thead>\n    <tr style=\"text-align: right;\">\n      <th></th>\n      <th>id</th>\n      <th>keyword</th>\n      <th>location</th>\n      <th>text</th>\n      <th>target</th>\n    </tr>\n  </thead>\n  <tbody>\n    <tr>\n      <th>6590</th>\n      <td>9436</td>\n      <td>survivors</td>\n      <td>Marietta, GA</td>\n      <td>Stemming from my #Cubs talk- the team rosters ...</td>\n      <td>1</td>\n    </tr>\n    <tr>\n      <th>7122</th>\n      <td>10203</td>\n      <td>violent%20storm</td>\n      <td></td>\n      <td>If you were the NWS wth a rotating storm w/ a ...</td>\n      <td>1</td>\n    </tr>\n    <tr>\n      <th>2769</th>\n      <td>3980</td>\n      <td>devastation</td>\n      <td>Atlanta g.a.</td>\n      <td>http://t.co/Gxgm1T3W0J From Devastation to Ela...</td>\n      <td>0</td>\n    </tr>\n  </tbody>\n</table>\n</div>"
     },
     "execution_count": 8,
     "metadata": {},
     "output_type": "execute_result"
    }
   ],
   "source": [
    "train.loc[[6590, 7122, 2769]]"
   ]
  },
  {
   "cell_type": "code",
   "execution_count": 9,
   "metadata": {
    "id": "lwwJKX_l-eoh",
    "ExecuteTime": {
     "end_time": "2023-05-08T11:59:11.112838900Z",
     "start_time": "2023-05-08T11:59:10.970212100Z"
    }
   },
   "outputs": [
    {
     "data": {
      "text/plain": "                keyword                location  \\\n1186  bridge%20collapse                           \n4071               hail  Carol Stream, Illinois   \n5461             police                Houston    \n5787            rioting                           \n7445             wounds          Lake Highlands   \n\n                                                   text  \\\n1186  Ashes 2015: AustraliaÛªs collapse at Trent Br...   \n4071  GREAT MICHIGAN TECHNIQUE CAMP\\nB1G THANKS TO @...   \n5461  CNN: Tennessee movie theater shooting suspect ...   \n5787  Still rioting in a couple of hours left until ...   \n7445  Crack in the path where I wiped out this morni...   \n\n                                                      0  \n1186  inundated Bristol Hi @FionaGilbert_ sorry for ...  \n4071  inundation  Oh no. The Boots &amp; hearts soci...  \n5461                                                NaN  \n5787                                                NaN  \n7445                                                NaN  ",
      "text/html": "<div>\n<style scoped>\n    .dataframe tbody tr th:only-of-type {\n        vertical-align: middle;\n    }\n\n    .dataframe tbody tr th {\n        vertical-align: top;\n    }\n\n    .dataframe thead th {\n        text-align: right;\n    }\n</style>\n<table border=\"1\" class=\"dataframe\">\n  <thead>\n    <tr style=\"text-align: right;\">\n      <th></th>\n      <th>keyword</th>\n      <th>location</th>\n      <th>text</th>\n      <th>0</th>\n    </tr>\n  </thead>\n  <tbody>\n    <tr>\n      <th>1186</th>\n      <td>bridge%20collapse</td>\n      <td></td>\n      <td>Ashes 2015: AustraliaÛªs collapse at Trent Br...</td>\n      <td>inundated Bristol Hi @FionaGilbert_ sorry for ...</td>\n    </tr>\n    <tr>\n      <th>4071</th>\n      <td>hail</td>\n      <td>Carol Stream, Illinois</td>\n      <td>GREAT MICHIGAN TECHNIQUE CAMP\\nB1G THANKS TO @...</td>\n      <td>inundation  Oh no. The Boots &amp;amp; hearts soci...</td>\n    </tr>\n    <tr>\n      <th>5461</th>\n      <td>police</td>\n      <td>Houston</td>\n      <td>CNN: Tennessee movie theater shooting suspect ...</td>\n      <td>NaN</td>\n    </tr>\n    <tr>\n      <th>5787</th>\n      <td>rioting</td>\n      <td></td>\n      <td>Still rioting in a couple of hours left until ...</td>\n      <td>NaN</td>\n    </tr>\n    <tr>\n      <th>7445</th>\n      <td>wounds</td>\n      <td>Lake Highlands</td>\n      <td>Crack in the path where I wiped out this morni...</td>\n      <td>NaN</td>\n    </tr>\n  </tbody>\n</table>\n</div>"
     },
     "execution_count": 9,
     "metadata": {},
     "output_type": "execute_result"
    }
   ],
   "source": [
    "# Объединение трех текстовых столбцов в один и удаление столбца с индексом\n",
    "train_new = train[['keyword', 'location', 'text']].apply(lambda x: ' '.join(x), axis=1).reset_index(drop=True)\n",
    "train_new = pd.concat([train[['keyword', 'location', 'text']], train_new], axis=1)\n",
    "\n",
    "train_new.head(5)"
   ]
  },
  {
   "cell_type": "code",
   "execution_count": 10,
   "metadata": {
    "colab": {
     "base_uri": "https://localhost:8080/",
     "height": 143
    },
    "id": "jk7P70XX_CpT",
    "outputId": "5cf01b29-8ada-46d7-f7ee-74e7aed37996",
    "ExecuteTime": {
     "end_time": "2023-05-08T11:59:11.112838900Z",
     "start_time": "2023-05-08T11:59:11.016839300Z"
    }
   },
   "outputs": [
    {
     "data": {
      "text/plain": "              keyword      location  \\\n6590        survivors  Marietta, GA   \n7122  violent%20storm                 \n2769      devastation  Atlanta g.a.   \n\n                                                   text  \\\n6590  Stemming from my #Cubs talk- the team rosters ...   \n7122  If you were the NWS wth a rotating storm w/ a ...   \n2769  http://t.co/Gxgm1T3W0J From Devastation to Ela...   \n\n                                                      0  \n6590                                                NaN  \n7122                                                NaN  \n2769  collide Vancouver, BC #Vancouver to host 100s ...  ",
      "text/html": "<div>\n<style scoped>\n    .dataframe tbody tr th:only-of-type {\n        vertical-align: middle;\n    }\n\n    .dataframe tbody tr th {\n        vertical-align: top;\n    }\n\n    .dataframe thead th {\n        text-align: right;\n    }\n</style>\n<table border=\"1\" class=\"dataframe\">\n  <thead>\n    <tr style=\"text-align: right;\">\n      <th></th>\n      <th>keyword</th>\n      <th>location</th>\n      <th>text</th>\n      <th>0</th>\n    </tr>\n  </thead>\n  <tbody>\n    <tr>\n      <th>6590</th>\n      <td>survivors</td>\n      <td>Marietta, GA</td>\n      <td>Stemming from my #Cubs talk- the team rosters ...</td>\n      <td>NaN</td>\n    </tr>\n    <tr>\n      <th>7122</th>\n      <td>violent%20storm</td>\n      <td></td>\n      <td>If you were the NWS wth a rotating storm w/ a ...</td>\n      <td>NaN</td>\n    </tr>\n    <tr>\n      <th>2769</th>\n      <td>devastation</td>\n      <td>Atlanta g.a.</td>\n      <td>http://t.co/Gxgm1T3W0J From Devastation to Ela...</td>\n      <td>collide Vancouver, BC #Vancouver to host 100s ...</td>\n    </tr>\n  </tbody>\n</table>\n</div>"
     },
     "execution_count": 10,
     "metadata": {},
     "output_type": "execute_result"
    }
   ],
   "source": [
    "train_new.loc[[6590, 7122, 2769]]"
   ]
  },
  {
   "cell_type": "markdown",
   "metadata": {
    "id": "ViXdGTxP3HvM"
   },
   "source": [
    "## Задание 4 (0.5 балла)\n",
    "\n",
    "Далее мы будем пока работать только с train частью.\n",
    "\n",
    "1. Предобработайте данные (train часть) с помощью CountVectorizer.\n",
    "2. Какого размера получилась матрица?\n"
   ]
  },
  {
   "cell_type": "code",
   "execution_count": 11,
   "metadata": {
    "id": "oB1MTqUVAbPA",
    "ExecuteTime": {
     "end_time": "2023-05-08T11:59:11.294838700Z",
     "start_time": "2023-05-08T11:59:11.034839400Z"
    }
   },
   "outputs": [
    {
     "name": "stdout",
     "output_type": "stream",
     "text": [
      "5329 на 16937\n"
     ]
    }
   ],
   "source": [
    "from sklearn.feature_extraction.text import CountVectorizer\n",
    "\n",
    "vector = CountVectorizer()\n",
    "train_counts = vector.fit_transform(train['text'])\n",
    "print(*train_counts.shape, sep=' на ')"
   ]
  },
  {
   "cell_type": "markdown",
   "metadata": {
    "id": "A4waLlnC3HvM"
   },
   "source": [
    "## Задание 5 (1 балл)\n",
    "\n",
    "В предыдущем пункте у вас должна была получиться достаточно большая матрица.\n",
    "Если вы взгляните на текст, то увидете, что там есть множество специальных символов, ссылок и прочего мусора.\n",
    "\n",
    "Давайте также посмотрим на словарь, который получился в результате построения CountVectorizer, его можно найти в поле vocabulary_ инстанса этого класса. Давайте напишем функцию, которая печает ответы на следующие вопросы:\n",
    "\n",
    "1. Найдите в этом словаре все слова, которые содержат цифры. Сколько таких слов нашлось?\n",
    "\n",
    "2. Найдите все слова, которые содержат символы пунктуации. Сколько таких слов нашлось? \n",
    "\n",
    "3. Сколько хэштегов (токен начинается на #) и упоминаний (токен начинается на @) осталось в словаре?"
   ]
  },
  {
   "cell_type": "code",
   "execution_count": 12,
   "metadata": {
    "id": "7PhQSWqcHhU8",
    "ExecuteTime": {
     "end_time": "2023-05-08T11:59:11.295839100Z",
     "start_time": "2023-05-08T11:59:11.161840Z"
    }
   },
   "outputs": [],
   "source": [
    "import re\n",
    "\n",
    "\n",
    "def contains_digit(s: str) -> bool:\n",
    "    # Проверка, содержит ли слово цифры\n",
    "    return bool(re.search(r'\\d', s))\n",
    "\n",
    "\n",
    "def contains_punctuation(s: str) -> bool:\n",
    "    # Проверка, содержит ли слово пунктуацию\n",
    "    return any(char in punctuation for char in s)\n",
    "\n",
    "\n",
    "def is_hashtag(s: str) -> bool:\n",
    "    # Проверка, является ли слово хэштегом\n",
    "    return bool(re.match(r\"#\\w+\", s))\n",
    "\n",
    "\n",
    "def is_mention(s: str) -> bool:\n",
    "    # Проверка, является ли слово упоминанием\n",
    "    return bool(re.match(r\"@\\w+\", s))\n",
    "\n",
    "\n",
    "def investigate_vocabulary(vocabulary):\n",
    "    keys = vocabulary.keys()\n",
    "    with_digit = sum(contains_digit(word) for word in keys)\n",
    "    with_punctuation = sum(contains_punctuation(word) for word in keys)\n",
    "    hashtags = sum(is_hashtag(word) for word in keys)\n",
    "    mentions = sum(is_mention(word) for word in keys)\n",
    "    print(f'With digit: {with_digit}')\n",
    "    print(f'With punctuation: {with_punctuation}')\n",
    "    print(f'Hashtags: {hashtags}')\n",
    "    print(f'Mentions: {mentions}')"
   ]
  },
  {
   "cell_type": "code",
   "execution_count": 13,
   "metadata": {
    "colab": {
     "base_uri": "https://localhost:8080/"
    },
    "id": "s8hL5ZcQIdp6",
    "outputId": "c8b50455-38f2-455d-c9f6-96b03a7e09ce",
    "ExecuteTime": {
     "end_time": "2023-05-08T11:59:11.295839100Z",
     "start_time": "2023-05-08T11:59:11.161840Z"
    }
   },
   "outputs": [
    {
     "name": "stdout",
     "output_type": "stream",
     "text": [
      "With digit: 2\n",
      "With punctuation: 7\n",
      "Hashtags: 1\n",
      "Mentions: 3\n"
     ]
    }
   ],
   "source": [
    "dummy_vocab = {'th1nk' : 0,\n",
    "               'think333' : 1,\n",
    "               'think.' : 2,\n",
    "               'th!nk' : 3,\n",
    "               'th...nk' : 4,\n",
    "               '#think' : 5,\n",
    "               '@think' : 6,\n",
    "               '@thinking':7,\n",
    "               '@nothink' : 8,\n",
    "               'think' : 9}\n",
    "investigate_vocabulary(dummy_vocab)"
   ]
  },
  {
   "cell_type": "code",
   "execution_count": 14,
   "metadata": {
    "id": "VpW8R_SuKR_l",
    "ExecuteTime": {
     "end_time": "2023-05-08T11:59:11.297839200Z",
     "start_time": "2023-05-08T11:59:11.215838900Z"
    }
   },
   "outputs": [
    {
     "name": "stdout",
     "output_type": "stream",
     "text": [
      "With digit: 3663\n",
      "With punctuation: 300\n",
      "Hashtags: 0\n",
      "Mentions: 0\n"
     ]
    }
   ],
   "source": [
    "investigate_vocabulary(vector.vocabulary_)"
   ]
  },
  {
   "cell_type": "markdown",
   "metadata": {
    "id": "bfNLaxX93HvM"
   },
   "source": [
    "## Задание 6 (0.5 балла)\n",
    "\n",
    "Вспомним, что на семинаре по текстам мы узнали, что в nltk есть специальный токенизатор для текстов - TweetTokenizer. Попробуем применить CountVectorizer с этим токенизатором. Ответьте на все вопросы из предыдущего пункта для TweetTokenizer и сравните результаты."
   ]
  },
  {
   "cell_type": "code",
   "execution_count": 15,
   "metadata": {
    "id": "xnlRoXUS3HvM",
    "ExecuteTime": {
     "end_time": "2023-05-08T11:59:11.878996700Z",
     "start_time": "2023-05-08T11:59:11.220843500Z"
    }
   },
   "outputs": [],
   "source": [
    "from nltk.tokenize import TweetTokenizer\n",
    "# Чтобы узнать, какие параметры есть у этого токенайзера - используйте help(TweetTokenizer)\n",
    "# Для того, чтобы передать токенайзер в CountVectorizer используйте параметр tokenizer"
   ]
  },
  {
   "cell_type": "code",
   "execution_count": 16,
   "metadata": {
    "id": "8lPMIf6UKccT",
    "ExecuteTime": {
     "end_time": "2023-05-08T11:59:12.306996600Z",
     "start_time": "2023-05-08T11:59:11.878996700Z"
    }
   },
   "outputs": [],
   "source": [
    "tweet_tokenizer = TweetTokenizer()\n",
    "vectorizer = CountVectorizer(tokenizer=tweet_tokenizer.tokenize, token_pattern=None)\n",
    "vectorizer.fit(train['text']);"
   ]
  },
  {
   "cell_type": "code",
   "execution_count": 17,
   "metadata": {
    "id": "7oR5kNKVLLpm",
    "ExecuteTime": {
     "end_time": "2023-05-08T11:59:12.357996400Z",
     "start_time": "2023-05-08T11:59:12.295000600Z"
    }
   },
   "outputs": [
    {
     "name": "stdout",
     "output_type": "stream",
     "text": [
      "With digit: 3781\n",
      "With punctuation: 7136\n",
      "Hashtags: 1438\n",
      "Mentions: 1668\n"
     ]
    }
   ],
   "source": [
    "investigate_vocabulary(vectorizer.vocabulary_)"
   ]
  },
  {
   "attachments": {},
   "cell_type": "markdown",
   "metadata": {
    "id": "Wetr80-ILULV"
   },
   "source": [
    "**Сравнение:**\n",
    "Мы видим, что использование `TweetTokenizer` в `CountVectorizer` приводит к большему количеству слов, содержащих символы пунктуации, хэштеги и упоминания, так как TweetTokenizer предназначен для работы с твитами, в которых обычно присутствуют хэштеги и упоминания. В то же время, `CountVectorizer` с параметрами по умолчанию и стандартным токенизатором находит меньше слов, содержащих цифры и символы пунктуации."
   ]
  },
  {
   "cell_type": "markdown",
   "metadata": {
    "id": "6_k_-i1x3HvM"
   },
   "source": [
    "## Задание 7 (2 балла)\n",
    "\n",
    "В scikit-learn мы можем оценивать процесс подсчета матрицы через CountVectorizer. У CountVectorizer, как и у других наследников \\_VectorizerMixin, есть аргумент tokenizer и preprocessor. preprocessor применится в самом начале к каждой строке вашего датасета, tokenizer же должен принять строку и вернуть токены.\n",
    "Давайте напишем кастомный токенайзер, которые сделает все, что нам нужно: \n",
    "\n",
    "0. Приведет все буквы к нижнему регистру\n",
    "1. Разобьет текст на токены с помощью TweetTokenizer из пакета nltk\n",
    "2. Удалит все токены содержащие не латинские буквы, кроме смайликов (будем считать ими токены содержащие только пунктуацию и, как минимум, одну скобочку) и хэштегов, которые после начальной # содержат только латинские буквы.\n",
    "3. Удалит все токены, которые перечислены в nltk.corpus.stopwords.words('english')\n",
    "4. Проведет стемминг с помощью SnowballStemmer\n",
    "\n"
   ]
  },
  {
   "cell_type": "code",
   "execution_count": 18,
   "metadata": {
    "id": "qhwmi7DEMD25",
    "ExecuteTime": {
     "end_time": "2023-05-08T11:59:12.555959500Z",
     "start_time": "2023-05-08T11:59:12.359997100Z"
    }
   },
   "outputs": [],
   "source": [
    "import re\n",
    "from nltk.corpus import stopwords\n",
    "from nltk.stem import SnowballStemmer\n",
    "import nltk\n",
    "\n",
    "nltk.download('stopwords', quiet=True)\n",
    "\n",
    "def contains_only_latin_letters(s: str) -> bool:\n",
    "    return bool(re.fullmatch(r'[a-zA-Z]+', s))\n",
    "\n",
    "def is_emoji(s: str) -> bool:\n",
    "    return bool(re.fullmatch(r'[\\W]*[()]+[\\W]*', s))\n",
    "\n",
    "def is_hashtag(s: str) -> bool:\n",
    "    return bool(re.fullmatch(r'#[a-zA-Z]+', s))\n",
    "\n",
    "def custom_tokenizer(s: str) -> List[str]:\n",
    "    tokens = TweetTokenizer().tokenize(s.lower())\n",
    "    english_stopwords = set(stopwords.words('english'))\n",
    "    stemmer = SnowballStemmer('english')\n",
    "\n",
    "    result = []\n",
    "    for token in tokens:\n",
    "        if (contains_only_latin_letters(token) or\n",
    "            is_emoji(token) or\n",
    "            is_hashtag(token)) and token not in english_stopwords:\n",
    "            stemmed_token = stemmer.stem(token)\n",
    "            result.append(stemmed_token)\n",
    "\n",
    "    return result"
   ]
  },
  {
   "cell_type": "code",
   "execution_count": 19,
   "metadata": {
    "colab": {
     "base_uri": "https://localhost:8080/"
    },
    "id": "vYzPZzf8O6vj",
    "outputId": "b1107f8a-eef7-49f7-8ed3-910be791d645",
    "ExecuteTime": {
     "end_time": "2023-05-08T11:59:12.571233800Z",
     "start_time": "2023-05-08T11:59:12.556998100Z"
    }
   },
   "outputs": [
    {
     "data": {
      "text/plain": "['love', 'paint', ':-)', '#art']"
     },
     "execution_count": 19,
     "metadata": {},
     "output_type": "execute_result"
    }
   ],
   "source": [
    "custom_tokenizer('She LOVES painting :-) #art')"
   ]
  },
  {
   "cell_type": "markdown",
   "metadata": {
    "id": "2S_-ThAf5It4"
   },
   "source": [
    "Продемонстрируйте работу вашей функции на первых десяти текстах в обучающей выборке."
   ]
  },
  {
   "cell_type": "code",
   "execution_count": 20,
   "metadata": {
    "id": "A1fh3_itPz7D",
    "ExecuteTime": {
     "end_time": "2023-05-08T11:59:12.648234100Z",
     "start_time": "2023-05-08T11:59:12.573233400Z"
    }
   },
   "outputs": [
    {
     "name": "stdout",
     "output_type": "stream",
     "text": [
      "Текст 1:\n",
      "Ashes 2015: AustraliaÛªs collapse at Trent Bridge among worst in history: England bundled out Australia for 60 ... http://t.co/t5TrhjUAU0\n",
      "Токенизация:\n",
      "['ash', 'australia', 'collaps', 'trent', 'bridg', 'among', 'worst', 'histori', 'england', 'bundl', 'australia']\n",
      "\n",
      "Текст 2:\n",
      "GREAT MICHIGAN TECHNIQUE CAMP\n",
      "B1G THANKS TO @bmurph1019 \n",
      "@hail_Youtsey . @termn8r13 \n",
      "#GoBlue #WrestleOn http://t.co/OasKgki6Qj\n",
      "Токенизация:\n",
      "['great', 'michigan', 'techniqu', 'camp', 'thank', '#goblu', '#wrestleon']\n",
      "\n",
      "Текст 3:\n",
      "CNN: Tennessee movie theater shooting suspect killed by police http://t.co/dI8ElZsWNR\n",
      "Токенизация:\n",
      "['cnn', 'tennesse', 'movi', 'theater', 'shoot', 'suspect', 'kill', 'polic']\n",
      "\n",
      "Текст 4:\n",
      "Still rioting in a couple of hours left until I have to be up for class.\n",
      "Токенизация:\n",
      "['still', 'riot', 'coupl', 'hour', 'left', 'class']\n",
      "\n",
      "Текст 5:\n",
      "Crack in the path where I wiped out this morning during beach run. Surface wounds on left elbow and right knee. http://t.co/yaqRSximph\n",
      "Токенизация:\n",
      "['crack', 'path', 'wipe', 'morn', 'beach', 'run', 'surfac', 'wound', 'left', 'elbow', 'right', 'knee']\n",
      "\n",
      "Текст 6:\n",
      "Experts in France begin examining airplane debris found on Reunion Island: French air accident experts on... http://t.co/TagZbcXFj0 #MLB\n",
      "Токенизация:\n",
      "['expert', 'franc', 'begin', 'examin', 'airplan', 'debri', 'found', 'reunion', 'island', 'french', 'air', 'accid', 'expert', '#mlb']\n",
      "\n",
      "Текст 7:\n",
      "'I came to kill Indians...for FUN': Video of smirking and remorseless Pakistani killer shows him boasting. http://t.co/FPjLwOXKlg\n",
      "Токенизация:\n",
      "['came', 'kill', 'indian', 'fun', 'video', 'smirk', 'remorseless', 'pakistani', 'killer', 'show', 'boast']\n",
      "\n",
      "Текст 8:\n",
      "@JohnsonTionne except idk them?? it's really burning ??????\n",
      "Токенизация:\n",
      "['except', 'idk', 'realli', 'burn']\n",
      "\n",
      "Текст 9:\n",
      "destroy the house\n",
      "Токенизация:\n",
      "['destroy', 'hous']\n",
      "\n",
      "Текст 10:\n",
      "Police Officer Wounded Suspect Dead After Exchanging Shots http://t.co/XxFk4KHbIw\n",
      "Токенизация:\n",
      "['polic', 'offic', 'wound', 'suspect', 'dead', 'exchang', 'shot']\n",
      "\n"
     ]
    }
   ],
   "source": [
    "sample_texts = train[\"text\"].head(10)\n",
    "\n",
    "for i, text in enumerate(sample_texts):\n",
    "    print(f'Текст {i + 1}:\\n{text}')\n",
    "    print(f'Токенизация:\\n{custom_tokenizer(text)}\\n')"
   ]
  },
  {
   "cell_type": "markdown",
   "metadata": {
    "id": "a5lNZ4tb3HvN"
   },
   "source": [
    "## Задание 8 (1 балл)\n",
    "\n",
    "1. Примените CountVectorizer с реализованным выше токенизатором к обучающим и тестовым выборкам.\n"
   ]
  },
  {
   "cell_type": "code",
   "execution_count": 21,
   "metadata": {
    "id": "LDqixz7QQEbn",
    "ExecuteTime": {
     "end_time": "2023-05-08T11:59:15.413729900Z",
     "start_time": "2023-05-08T11:59:12.590245600Z"
    }
   },
   "outputs": [],
   "source": [
    "vectorizer = CountVectorizer(tokenizer=custom_tokenizer, token_pattern=None)\n",
    "X_train = vectorizer.fit_transform(train[\"text\"])\n",
    "X_test = vectorizer.transform(test[\"text\"]);"
   ]
  },
  {
   "cell_type": "markdown",
   "metadata": {
    "id": "YcetwuEi5ds9"
   },
   "source": [
    "2. Обучите LogisticRegression на полученных признаках.\n"
   ]
  },
  {
   "cell_type": "code",
   "execution_count": 22,
   "metadata": {
    "id": "BVj03QV2QbWl",
    "ExecuteTime": {
     "end_time": "2023-05-08T11:59:15.492879100Z",
     "start_time": "2023-05-08T11:59:15.416731200Z"
    }
   },
   "outputs": [],
   "source": [
    "from sklearn.linear_model import LogisticRegression\n",
    "\n",
    "logreg = LogisticRegression(random_state=42, max_iter=1000)\n",
    "logreg.fit(X_train, train[\"target\"]);"
   ]
  },
  {
   "cell_type": "markdown",
   "metadata": {
    "id": "6Ch6uz2P5e-T"
   },
   "source": [
    "3. Посчитайте метрику f1-score на тестовых данных."
   ]
  },
  {
   "cell_type": "code",
   "execution_count": 23,
   "metadata": {
    "colab": {
     "base_uri": "https://localhost:8080/"
    },
    "id": "osyC0pdT3cSD",
    "outputId": "cd957d5f-5118-4b7f-d7ba-01bb5a524086",
    "ExecuteTime": {
     "end_time": "2023-05-08T11:59:15.506814900Z",
     "start_time": "2023-05-08T11:59:15.497657900Z"
    }
   },
   "outputs": [
    {
     "name": "stdout",
     "output_type": "stream",
     "text": [
      "f1-score: 0.7524644030668127\n"
     ]
    }
   ],
   "source": [
    "from sklearn.metrics import f1_score\n",
    "\n",
    "y_pred = logreg.predict(X_test)\n",
    "f1 = f1_score(test[\"target\"], y_pred)\n",
    "print(f'f1-score: {f1}')"
   ]
  },
  {
   "cell_type": "markdown",
   "metadata": {
    "id": "aFIEYOMZ3HvN"
   },
   "source": [
    "## Задание 9 (1 балл)\n",
    "\n",
    "1. Повторите 8 задание, но с tf-idf векторизатором. Как изменилось качество?\n"
   ]
  },
  {
   "cell_type": "code",
   "execution_count": 24,
   "metadata": {
    "colab": {
     "base_uri": "https://localhost:8080/"
    },
    "id": "cDqs61hl3ve3",
    "outputId": "fdd72125-dfde-4183-d614-3b0bc9002ada",
    "ExecuteTime": {
     "end_time": "2023-05-08T11:59:18.175864300Z",
     "start_time": "2023-05-08T11:59:15.509813800Z"
    }
   },
   "outputs": [
    {
     "name": "stdout",
     "output_type": "stream",
     "text": [
      "TF-IDF f1-score: 0.7418803418803419\n",
      "На такую величину изменилось качество 0.010584061186470817\n"
     ]
    }
   ],
   "source": [
    "from sklearn.feature_extraction.text import TfidfVectorizer\n",
    "\n",
    "tfidf_vectorizer = TfidfVectorizer(tokenizer=custom_tokenizer, token_pattern=None)\n",
    "X_train_tfidf = tfidf_vectorizer.fit_transform(train[\"text\"])\n",
    "X_test_tfidf = tfidf_vectorizer.transform(test[\"text\"])\n",
    "\n",
    "logreg_tfidf = LogisticRegression(random_state=42, max_iter=1000)\n",
    "logreg_tfidf.fit(X_train_tfidf, train[\"target\"])\n",
    "\n",
    "y_pred_tfidf = logreg_tfidf.predict(X_test_tfidf)\n",
    "\n",
    "f1_tfidf = f1_score(test[\"target\"], y_pred_tfidf)\n",
    "\n",
    "print(f'TF-IDF f1-score: {f1_tfidf}')\n",
    "print('На такую величину изменилось качество', f1 - f1_tfidf)"
   ]
  },
  {
   "attachments": {},
   "cell_type": "markdown",
   "metadata": {
    "id": "SXaNclTZSFjO"
   },
   "source": [
    "1. **Ответ:**  \n",
    "В нашем случае значение `f1` уменьшилось, поэтому может сказаь, что качество нашей модели ухудшилось "
   ]
  },
  {
   "cell_type": "markdown",
   "metadata": {
    "id": "CPtk0lCA5POY"
   },
   "source": [
    "2. Мы можем еще сильнее уменьшить размер нашей матрицы, если отбросим значения df близкие к единице. Скорее всего такие слова не несут много информации о категории, так как встречаются достаточно часто. Ограничьте максимальный df в параметрах TfIdfVectorizer, поставьте верхнюю границу равную 0.9. Как изменился размер матрицы, как изменилось качество?\n"
   ]
  },
  {
   "cell_type": "code",
   "execution_count": 25,
   "metadata": {
    "colab": {
     "base_uri": "https://localhost:8080/"
    },
    "id": "EU-MRXyRSHLm",
    "outputId": "6b5353a8-5f3b-4220-fcd4-64eecfe20054",
    "ExecuteTime": {
     "end_time": "2023-05-08T11:59:21.094293300Z",
     "start_time": "2023-05-08T11:59:18.158422400Z"
    }
   },
   "outputs": [
    {
     "name": "stdout",
     "output_type": "stream",
     "text": [
      "TF-IDF с верхней границей 0.9 f1-score: 0.7418803418803419\n"
     ]
    }
   ],
   "source": [
    "tfidf_vectorizer_max = TfidfVectorizer(tokenizer=custom_tokenizer, max_df=0.9, token_pattern=None)\n",
    "X_train_tfidf_max = tfidf_vectorizer_max.fit_transform(train[\"text\"])\n",
    "X_test_tfidf_max = tfidf_vectorizer_max.transform(test[\"text\"])\n",
    "\n",
    "logreg_tfidf_max = LogisticRegression(random_state=42, max_iter=1000)\n",
    "logreg_tfidf_max.fit(X_train_tfidf_max, train[\"target\"])\n",
    "\n",
    "y_pred_tfidf_max = logreg_tfidf_max.predict(X_test_tfidf_max)\n",
    "\n",
    "f1_tfidf_max = f1_score(test[\"target\"], y_pred_tfidf_max)\n",
    "\n",
    "print(f'TF-IDF с верхней границей 0.9 f1-score: {f1_tfidf_max}')"
   ]
  },
  {
   "cell_type": "code",
   "execution_count": 26,
   "metadata": {
    "id": "z1TkO9HeSTJ9",
    "ExecuteTime": {
     "end_time": "2023-05-08T11:59:21.111205400Z",
     "start_time": "2023-05-08T11:59:21.098293400Z"
    }
   },
   "outputs": [
    {
     "name": "stdout",
     "output_type": "stream",
     "text": [
      "Обычный размер матрицы: 5329 9260\n",
      "Матрица с верхней границой 0.9: 5329 9260\n"
     ]
    }
   ],
   "source": [
    "print(f'Обычный размер матрицы:', *X_train_tfidf.shape)\n",
    "print(f'Матрица с верхней границей 0.9:', *X_train_tfidf_max.shape)"
   ]
  },
  {
   "attachments": {},
   "cell_type": "markdown",
   "metadata": {
    "id": "4Two_O3rSVmh"
   },
   "source": [
    "2. **Ответ:**  Размер матриц не изменился `TfidfVectorizer` с параметром `max_df=0.9`, потому что в документах обучающей и тестовой выборок нет слов, частота которых превышает 90% от общего количества документов. Следовательно также не изменился параметр `f1`"
   ]
  },
  {
   "cell_type": "markdown",
   "metadata": {
    "id": "VhyjbI5X5QnG"
   },
   "source": [
    "3. Также мы можем уменьшить размер матрицы, удаляя слова со слишком маленьким df. Удалось ли добиться улучшения качества? "
   ]
  },
  {
   "cell_type": "code",
   "execution_count": 27,
   "metadata": {
    "colab": {
     "base_uri": "https://localhost:8080/"
    },
    "id": "9mNpIxv6SfKc",
    "outputId": "607ec22e-1fdb-4c29-bbc4-6447ed266349",
    "ExecuteTime": {
     "end_time": "2023-05-08T11:59:23.547025Z",
     "start_time": "2023-05-08T11:59:21.111205400Z"
    }
   },
   "outputs": [
    {
     "name": "stdout",
     "output_type": "stream",
     "text": [
      "TF-IDF с нижней границе 5 f1-score: 0.7488839285714286\n"
     ]
    }
   ],
   "source": [
    "tfidf_vectorizer_min = TfidfVectorizer(tokenizer=custom_tokenizer, min_df=5, token_pattern=None)\n",
    "X_train_tfidf_min = tfidf_vectorizer_min.fit_transform(train[\"text\"])\n",
    "X_test_tfidf_min = tfidf_vectorizer_min.transform(test[\"text\"])\n",
    "\n",
    "logreg_tfidf_min = LogisticRegression(random_state=42, max_iter=1000)\n",
    "logreg_tfidf_min.fit(X_train_tfidf_min, train[\"target\"])\n",
    "\n",
    "y_pred_tfidf_min = logreg_tfidf_min.predict(X_test_tfidf_min)\n",
    "\n",
    "f1_tfidf_min = f1_score(test[\"target\"], y_pred_tfidf_min)\n",
    "print(f'TF-IDF с нижней границе 5 f1-score: {f1_tfidf_min}')"
   ]
  },
  {
   "cell_type": "code",
   "execution_count": 28,
   "metadata": {
    "ExecuteTime": {
     "end_time": "2023-05-08T11:59:23.608344600Z",
     "start_time": "2023-05-08T11:59:23.550027200Z"
    }
   },
   "outputs": [
    {
     "name": "stdout",
     "output_type": "stream",
     "text": [
      "Обычный размер матрицы: 5329 9260\n",
      "Уменьшенный размер матрицы: 5329 1792\n"
     ]
    }
   ],
   "source": [
    "print(f'Обычный размер матрицы:', *X_train_tfidf.shape)\n",
    "print(f'Уменьшенный размер матрицы:', *X_train_tfidf_min.shape)"
   ]
  },
  {
   "attachments": {},
   "cell_type": "markdown",
   "metadata": {
    "id": "imeD8skxSqdg"
   },
   "source": [
    "3. **Ответ:**  \n",
    "При уменьшении размера матрицы путем удаления слов с низким значением df, мы сократили количество столбцов в матрице на 7468. Это означает, что мы удалили слова, которые встречаются слишком редко в документах и не имеют большой важности для классификации текстов. Этот результат хуже, чем `f1`, но лучше, чем другие результаты с TF-IDF."
   ]
  },
  {
   "cell_type": "markdown",
   "metadata": {
    "id": "1l1sx4nB3HvN"
   },
   "source": [
    "## Задание 10 (1 балл)\n",
    "\n",
    "Еще один популяпный трюк, который позволит уменьшить количество признаков называется hashing trick. Его суть в том, то мы случайно группируем признаки ииии  ..... складываем их! А потом удаляем исходные признаки. В итоге все наши признаки это просто суммы исходных. Звучит странно, но это отлично работает. Давайте проверим этот трюк в нашем сеттинге.\n",
    "Также при таком подходе вам не нужно хранить словарь token->index, что тоже иногда полезно.\n",
    "\n",
    "1. Повторите задание 8 с HashingVectorizer, укажите количество фичей равное 5000.\n"
   ]
  },
  {
   "cell_type": "code",
   "execution_count": 29,
   "metadata": {
    "colab": {
     "base_uri": "https://localhost:8080/"
    },
    "id": "8qSoW894RXxz",
    "outputId": "720818f4-f774-4273-bb10-918ecc72ef44",
    "ExecuteTime": {
     "end_time": "2023-05-08T11:59:26.137756500Z",
     "start_time": "2023-05-08T11:59:23.566346700Z"
    }
   },
   "outputs": [
    {
     "name": "stdout",
     "output_type": "stream",
     "text": [
      "F1 score: 0.7292457948996203\n"
     ]
    }
   ],
   "source": [
    "from sklearn.feature_extraction.text import HashingVectorizer\n",
    "\n",
    "vectorizer = HashingVectorizer(tokenizer=custom_tokenizer, n_features=5000, norm=None, token_pattern=None)\n",
    "X_train = vectorizer.fit_transform(train[\"text\"])\n",
    "X_test = vectorizer.transform(test[\"text\"])\n",
    "\n",
    "logreg = LogisticRegression(random_state=42, max_iter=1000).fit(X_train, train[\"target\"])\n",
    "\n",
    "y_pred = logreg.predict(X_test)\n",
    "f1 = f1_score(test[\"target\"], y_pred)\n",
    "\n",
    "print(f'F1 score: {f1}')"
   ]
  },
  {
   "cell_type": "markdown",
   "metadata": {
    "id": "1C3I4ceg6AG-"
   },
   "source": [
    "2. Какой из подходов показал самый высокий результат?"
   ]
  },
  {
   "attachments": {},
   "cell_type": "markdown",
   "metadata": {
    "id": "_bIfyVlOS9Lu"
   },
   "source": [
    "2. **Ответ:**  \n",
    "Самый высокий результат показала изначальная модель `0.7524...`."
   ]
  },
  {
   "cell_type": "markdown",
   "metadata": {
    "id": "zylJ6l0R3HvN"
   },
   "source": [
    "## Задание 11 (1 балл)\n",
    "\n",
    "В этом задании нужно добиться f1 меры хотя в 0.75 на тестовых данных."
   ]
  },
  {
   "cell_type": "code",
   "execution_count": 30,
   "metadata": {
    "id": "GSTVApFeS-OY",
    "ExecuteTime": {
     "end_time": "2023-05-08T11:59:28.792331900Z",
     "start_time": "2023-05-08T11:59:26.140754600Z"
    }
   },
   "outputs": [
    {
     "name": "stdout",
     "output_type": "stream",
     "text": [
      "Задание выполнено успешно с результатом f1-score: 0.7524644030668127\n"
     ]
    }
   ],
   "source": [
    "vectorizer = CountVectorizer(tokenizer=custom_tokenizer, token_pattern=None)\n",
    "X_train = vectorizer.fit_transform(train[\"text\"])\n",
    "X_test = vectorizer.transform(test[\"text\"])\n",
    "logreg = LogisticRegression(random_state=42, max_iter=1000)\n",
    "logreg.fit(X_train, train[\"target\"])\n",
    "\n",
    "y_pred = logreg.predict(X_test)\n",
    "f1 = f1_score(test[\"target\"], y_pred)\n",
    "if f1 > 0.75:\n",
    "    print(f'Задание выполнено успешно с результатом f1-score: {f1}')"
   ]
  }
 ],
 "metadata": {
  "colab": {
   "collapsed_sections": [
    "YlLemInT3HvL",
    "A8CPBUal3HvL"
   ],
   "provenance": []
  },
  "kernelspec": {
   "display_name": "Python 3 (ipykernel)",
   "language": "python",
   "name": "python3"
  },
  "language_info": {
   "codemirror_mode": {
    "name": "ipython",
    "version": 3
   },
   "file_extension": ".py",
   "mimetype": "text/x-python",
   "name": "python",
   "nbconvert_exporter": "python",
   "pygments_lexer": "ipython3",
   "version": "3.10.11"
  }
 },
 "nbformat": 4,
 "nbformat_minor": 1
}
