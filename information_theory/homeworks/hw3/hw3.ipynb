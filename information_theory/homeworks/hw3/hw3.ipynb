{
 "cells": [
  {
   "cell_type": "code",
   "execution_count": null,
   "metadata": {
    "ExecuteTime": {
     "end_time": "2023-04-06T20:00:24.037547Z",
     "start_time": "2023-04-06T20:00:24.017603Z"
    },
    "collapsed": false
   },
   "outputs": [],
   "source": [
    "from typing import Union\n",
    "import numpy as np\n",
    "from itertools import combinations\n",
    "import time"
   ]
  },
  {
   "cell_type": "markdown",
   "metadata": {
    "collapsed": false
   },
   "source": [
    "**Добавим декоратор времени**"
   ]
  },
  {
   "cell_type": "code",
   "execution_count": null,
   "metadata": {
    "ExecuteTime": {
     "end_time": "2023-04-06T20:00:25.080981Z",
     "start_time": "2023-04-06T20:00:25.054073Z"
    },
    "collapsed": false
   },
   "outputs": [],
   "source": [
    "def timer(func):\n",
    "    def wrapper(*args, **kwargs):\n",
    "        start_time = time.time()\n",
    "        result = func(*args, **kwargs)\n",
    "        end_time = time.time()\n",
    "        print(f\"Время выполнения функции {func.__name__}: {end_time - start_time:.5f} секунд\")\n",
    "        return result\n",
    "\n",
    "    return wrapper"
   ]
  },
  {
   "attachments": {},
   "cell_type": "markdown",
   "metadata": {
    "collapsed": false
   },
   "source": [
    "**Создание порождающей-канонической матрицы**\n",
    "\n",
    "Функция `is_linearly_independent` проверяет на то, что матрица линейно независима.\n",
    "\n",
    "Функция `canonical_matrix` возвращает порождающую-каноническую матрицу."
   ]
  },
  {
   "cell_type": "code",
   "execution_count": null,
   "metadata": {
    "ExecuteTime": {
     "end_time": "2023-04-06T20:00:26.220818Z",
     "start_time": "2023-04-06T20:00:26.196852Z"
    },
    "collapsed": false
   },
   "outputs": [],
   "source": [
    "def is_linearly_independent(k: int, n: int, field: int) -> np.array:\n",
    "    while True:\n",
    "        matrix = np.random.randint(0, field, size=(k, n - k))\n",
    "        if np.linalg.matrix_rank(matrix) == min(k, n - k):\n",
    "            return matrix\n",
    "\n",
    "\n",
    "def canonical_matrix(k: int, n: int, field: int) -> np.array:\n",
    "    return np.hstack((np.identity(k, dtype=int), is_linearly_independent(k, n, field)))"
   ]
  },
  {
   "attachments": {},
   "cell_type": "markdown",
   "metadata": {
    "collapsed": false
   },
   "source": [
    "**Создание проверочной матрицы**\n",
    "\n",
    "Функция `check_matrix` возвращает проверочную матрицу, на вход подаётся матрица `g` и поле Галуа `field`."
   ]
  },
  {
   "cell_type": "code",
   "execution_count": null,
   "metadata": {
    "ExecuteTime": {
     "end_time": "2023-04-06T20:00:27.391193Z",
     "start_time": "2023-04-06T20:00:27.377369Z"
    },
    "collapsed": false
   },
   "outputs": [],
   "source": [
    "def check_matrix(g: np.array, field: int) -> np.array:\n",
    "    k, n = g.shape\n",
    "    return np.hstack((np.mod(-g[:, k:].T, field), np.identity(n - k, dtype=int)), dtype=int)"
   ]
  },
  {
   "attachments": {},
   "cell_type": "markdown",
   "metadata": {
    "collapsed": false
   },
   "source": [
    "**Создание канонических-порождающих матриц, создание проверочных для них матриц**\n",
    "\n",
    " Проверка на правильность работы показана тем, что `g @ h.T` равняется нулевой матрице."
   ]
  },
  {
   "cell_type": "code",
   "execution_count": null,
   "metadata": {
    "ExecuteTime": {
     "end_time": "2023-04-06T20:00:50.552558Z",
     "start_time": "2023-04-06T20:00:50.514685Z"
    },
    "collapsed": false
   },
   "outputs": [],
   "source": [
    "g1 = canonical_matrix(2, 4, 2)\n",
    "g2 = canonical_matrix(11, 15, 2)\n",
    "g3 = canonical_matrix(4, 6, 3)\n",
    "g4 = canonical_matrix(4, 8, 3)\n",
    "\n",
    "h1 = check_matrix(g1, 2)\n",
    "h2 = check_matrix(g2, 2)\n",
    "h3 = check_matrix(g3, 3)\n",
    "h4 = check_matrix(g4, 3)\n",
    "\n",
    "fields = [2, 2, 3, 3]\n",
    "for i, field in enumerate(fields, start=1):\n",
    "    g = globals()[\"g\" + str(i)]\n",
    "    h = globals()[\"h\" + str(i)]\n",
    "    gh = (g @ h.T) % field  # Calculate G * H.T modulo field\n",
    "    print(f\"Матрица g{i}:\\n{np.array2string(g, separator=' ')}\")\n",
    "    print(f\"Матрица h{i}:\\n{np.array2string(h, separator=' ')}\")\n",
    "    print(f\"Произведение g{i} * h{i}.T:\\n{np.array2string(gh, separator=' ')}\")\n",
    "    print()"
   ]
  },
  {
   "attachments": {},
   "cell_type": "markdown",
   "metadata": {
    "collapsed": false
   },
   "source": [
    "**Декодирование с помощью таблицы стандартного расположения**\n",
    "\n",
    "В следующей ячейке написаны допольнительные функции для последующих заданий декодирования.\n",
    "\n",
    "Функция `generate_new_error_vector` генерирует новый вектор ошибки, который не содержится в заданной таблице ошибок.\n",
    "\n",
    "Функция `generate_table` создаёт таблицу стандартного расположения."
   ]
  },
  {
   "cell_type": "code",
   "execution_count": null,
   "metadata": {
    "ExecuteTime": {
     "end_time": "2023-04-06T18:09:12.476816Z",
     "start_time": "2023-04-06T18:09:12.458868Z"
    },
    "collapsed": false
   },
   "outputs": [],
   "source": [
    "def generate_new_error_vector(table, field: int):\n",
    "    n = table[0].shape[1]\n",
    "    table_set = set(map(tuple, np.unique(np.vstack(table), axis=0)))\n",
    "    for weight in range(1, n + 1):\n",
    "        for vector in combinations(range(n), weight):\n",
    "            new_vector = np.zeros(n, dtype=int)\n",
    "            new_vector[list(vector)] = 1\n",
    "            new_vector = np.mod(new_vector, field)\n",
    "            if tuple(new_vector) not in table_set:\n",
    "                return new_vector\n",
    "    return None\n",
    "\n",
    "\n",
    "def generate_table(g: np.array, field: int) -> np.array:\n",
    "    k, n = g.shape\n",
    "    all_vectors = np.stack(np.meshgrid(*[range(field) for _ in range(k)])).T.reshape(-1, k)\n",
    "    syndrome_vectors = np.mod(all_vectors @ g, field)\n",
    "    line = syndrome_vectors.reshape(field ** k, n)\n",
    "    table = np.array([line])\n",
    "    error_vector = generate_new_error_vector(table, field)\n",
    "    while error_vector is not None:\n",
    "        table = np.append(table, [np.mod(error_vector + line, field)], axis=0)\n",
    "        error_vector = generate_new_error_vector(table, field)\n",
    "    return table"
   ]
  },
  {
   "cell_type": "markdown",
   "metadata": {
    "collapsed": false
   },
   "source": [
    "**Создание таблиц**"
   ]
  },
  {
   "cell_type": "code",
   "execution_count": null,
   "metadata": {
    "ExecuteTime": {
     "end_time": "2023-04-06T18:09:16.347415Z",
     "start_time": "2023-04-06T18:09:13.962675Z"
    },
    "collapsed": false
   },
   "outputs": [],
   "source": [
    "%%time\n",
    "table_1 = generate_table(g1, 2)\n",
    "table_2 = generate_table(g2, 2)\n",
    "table_3 = generate_table(g3, 3)\n",
    "table_4 = generate_table(g4, 3)"
   ]
  },
  {
   "attachments": {},
   "cell_type": "markdown",
   "metadata": {},
   "source": [
    "**Декодирование с помощью таблицы стандартного расположения**\n",
    "\n",
    "Функция `decode_standard_table` декодирует с помощью таблицы стандартного расположения."
   ]
  },
  {
   "cell_type": "code",
   "execution_count": null,
   "metadata": {},
   "outputs": [],
   "source": [
    "@timer\n",
    "def decode_standard_table(table, vector: np.array, field: int) -> Union[np.array, None]:\n",
    "    matches = np.where(np.all(table == vector[np.newaxis, :], axis=2))\n",
    "    if len(matches[0]) == 0:\n",
    "        return None\n",
    "    i, j = matches[0][0], matches[1][0]\n",
    "    result = np.mod(vector - table[i][0], field)\n",
    "    return result"
   ]
  },
  {
   "attachments": {},
   "cell_type": "markdown",
   "metadata": {},
   "source": [
    "**Декодирование по синдрому**\n",
    "\n",
    "Функция `decode_syndrome` деодирует по синдрому. "
   ]
  },
  {
   "cell_type": "code",
   "execution_count": null,
   "metadata": {
    "ExecuteTime": {
     "end_time": "2023-04-03T20:43:00.532819Z",
     "start_time": "2023-04-03T20:43:00.516874Z"
    },
    "collapsed": false
   },
   "outputs": [],
   "source": [
    "@timer\n",
    "def decode_syndrome(table: np.array, vector: np.array, g: np.array, field) -> Union[str, np.array]:\n",
    "    h = check_matrix(g, field)\n",
    "    s = np.mod(vector @ h.T, field)\n",
    "    if np.count_nonzero(s) == 0:\n",
    "        return vector\n",
    "\n",
    "    syndrome_products = np.mod(table[:, 0] @ h.T, field)\n",
    "    matched_indices = np.where(np.all(s == syndrome_products, axis=-1))[0]\n",
    "\n",
    "    if matched_indices.size == 0:\n",
    "        return 'Отказ от декодирования'\n",
    "\n",
    "    matched_line = table[matched_indices[0]]\n",
    "    weight_line = np.count_nonzero(matched_line, axis=1)\n",
    "    min_weight = weight_line[0]\n",
    "    e = matched_line[0]\n",
    "\n",
    "    if np.any(weight_line[1:] <= min_weight):\n",
    "        return 'Отказ от декодирования'\n",
    "\n",
    "    return np.mod(vector - e, field)"
   ]
  },
  {
   "attachments": {},
   "cell_type": "markdown",
   "metadata": {},
   "source": [
    "**Функция зашумления канала**\n",
    "\n",
    "Написал дополнительную функцию зашумления канала `make_noise`."
   ]
  },
  {
   "cell_type": "code",
   "execution_count": null,
   "metadata": {},
   "outputs": [],
   "source": [
    "def make_noise(p, field, bit):\n",
    "    alphabet = set(i for i in range(field))\n",
    "    if np.random.random() < p:\n",
    "        # выбираем новый бит, отличный от исходного\n",
    "        new_bit = np.random.choice([b for b in alphabet if b != bit])\n",
    "    else:\n",
    "        # если бит не был изменен, возвращаем исходное значение\n",
    "        new_bit = bit\n",
    "    return new_bit, int(new_bit != bit)"
   ]
  },
  {
   "attachments": {},
   "cell_type": "markdown",
   "metadata": {},
   "source": [
    "**ТЕСТЫ**\n",
    "\n",
    "Функция `for_tests` выводит результаты декодирования с помощью функций `decode_standard_table` и `decode_standard_table`. \n",
    "\n",
    "Функция `tests` запускает тесты, задаёт их количество {чтобы изменить количество тестов, можно поменять цифру в цикле for} и создаёт рандомные сообщения для передачи."
   ]
  },
  {
   "cell_type": "code",
   "execution_count": null,
   "metadata": {},
   "outputs": [],
   "source": [
    "def for_tests(table: np.array, vector: np.array, g: np.array, field: int, p=0.3, fine=0, bad=0, refusal=0):\n",
    "    vector_len = g.shape[0]\n",
    "    encoded = np.mod(vector @ g, field)\n",
    "    noised, errors = np.vectorize(make_noise)(p, field, encoded)\n",
    "    decoded_ST = decode_standard_table(table, noised, field)[:vector_len]\n",
    "    decoded_SYN = decode_syndrome(table, noised, g, field)\n",
    "    if type(decoded_SYN) != type(''):\n",
    "        decoded_SYN = decoded_SYN[:vector_len]\n",
    "        refusal += 1\n",
    "    print('Исходное сообщение:      ', vector)\n",
    "    print('Закодированное сообщение:', encoded)\n",
    "    print('Зашумлённое сообщение:   ', noised)\n",
    "    print('Через таблицу:           ', decoded_ST)\n",
    "    print('По синдрому:             ', decoded_SYN)\n",
    "    if np.array_equal(vector, decoded_ST):\n",
    "        print(f'Декодирование прошло успешно, ошибок: {np.count_nonzero(errors)}')\n",
    "        fine += 1\n",
    "    else:\n",
    "        print(f'Декодирование не успешно, ошибок: {np.count_nonzero(errors)}')\n",
    "        bad += 1\n",
    "    print()\n",
    "    return fine, bad, refusal\n",
    "\n",
    "\n",
    "def tests(table: np.array, g: np.array, field: int):\n",
    "    k = g.shape[0]\n",
    "    fine = 0\n",
    "    bad = 0\n",
    "    refusal=0\n",
    "    for _ in range(20):\n",
    "        vector = np.random.randint(0, field ** k)\n",
    "        vector = np.array([int(digit) for digit in np.base_repr(vector, base=field).zfill(k)])\n",
    "        fine, bad, refusal = for_tests(table, vector, g, field, fine=fine, bad=bad, refusal=refusal)\n",
    "        for_tests(table, vector, g, field)\n",
    "    print(f'Успешных декодирований: {fine}, неуспешных декодирований: {bad}')\n",
    "    print(f'Процент успешных декодированиий {100 * fine / (fine + bad)}%')\n",
    "    print(f'Процент не успешных декодированиий {100 * bad / (fine + bad)}%')\n",
    "    print(f'Отказов от декодирования {(20 - refusal) / 0.2}%')"
   ]
  },
  {
   "attachments": {},
   "cell_type": "markdown",
   "metadata": {},
   "source": [
    "**Тесты для первой матрицы**"
   ]
  },
  {
   "cell_type": "code",
   "execution_count": null,
   "metadata": {},
   "outputs": [],
   "source": [
    "tests(table_1, g1, 2)"
   ]
  },
  {
   "attachments": {},
   "cell_type": "markdown",
   "metadata": {},
   "source": [
    "**Тесты для второй матрицы**"
   ]
  },
  {
   "cell_type": "code",
   "execution_count": null,
   "metadata": {},
   "outputs": [],
   "source": [
    "tests(table_2, g2, 2)"
   ]
  },
  {
   "attachments": {},
   "cell_type": "markdown",
   "metadata": {},
   "source": [
    "**Тесты для третьей матрицы**"
   ]
  },
  {
   "cell_type": "code",
   "execution_count": null,
   "metadata": {},
   "outputs": [],
   "source": [
    "tests(table_3, g3, 3)"
   ]
  },
  {
   "attachments": {},
   "cell_type": "markdown",
   "metadata": {},
   "source": [
    "**Тесты для четвёртой матрицы**"
   ]
  },
  {
   "cell_type": "code",
   "execution_count": null,
   "metadata": {},
   "outputs": [],
   "source": [
    "tests(table_4, g4, 3)"
   ]
  },
  {
   "attachments": {},
   "cell_type": "markdown",
   "metadata": {},
   "source": [
    "**Ответы на вопросы**\n",
    "\n",
    "1. В целом декодирование по синдрому и декодирование по стандратному расположению отличаются только на больших таблицах примеро на 0.001 секунды. Чтобы изменить количество тестов надо немного поменять код. В целом декодирование из очень оптимизированного алгоритма работает почти мнгновенно для небольших матриц.\n",
    "\n",
    "2. Я провёл тестирование для 10.000 случайных векторов.  \n",
    "   Для `table_1`:  \n",
    "   Успешных декодирований: `5459`, неуспешных декодирований: `4541`  \n",
    "   Процент успешных декодированиий `54.59%`  \n",
    "   Процент не успешных декодированиий `45.41%`  \n",
    "   Отказов от декодирования `26.38%`  \n",
    "   Исправляет `1` ошибку примерно в половине случаев. \n",
    "         \n",
    "   Для `table_2`:  \n",
    "   Успешных декодирований: `307`, неуспешных декодирований: `9693`  \n",
    "   Процент успешных декодированиий `3.07%`  \n",
    "   Процент не успешных декодированиий `96.93% ` \n",
    "   Отказов от декодирования `55.3%`  \n",
    "   Может исправлять максимум `1` ошибку.    \n",
    "         \n",
    "   Для `table_3`:  \n",
    "   Успешных декодирований: 2684, неуспешных декодирований: 7316  \n",
    "   Процент успешных декодированиий 26.84%  \n",
    "   Процент не успешных декодированиий 73.16%  \n",
    "   Отказов от декодирования 82.04%   \n",
    "   Исправляет не больше `1` ошибки\n",
    "          \n",
    "   Для `table_4`:  \n",
    "   Успешных декодирований: 2090, неуспешных декодирований: 7910  \n",
    "   Процент успешных декодированиий 20.9%  \n",
    "   Процент не успешных декодированиий 79.1%  \n",
    "   Отказов от декодирования 83.12%  \n",
    "   Исправляет до `3` ошибок.\n"
   ]
  }
 ],
 "metadata": {
  "kernelspec": {
   "display_name": "Python 3",
   "language": "python",
   "name": "python3"
  },
  "language_info": {
   "codemirror_mode": {
    "name": "ipython",
    "version": 3
   },
   "file_extension": ".py",
   "mimetype": "text/x-python",
   "name": "python",
   "nbconvert_exporter": "python",
   "pygments_lexer": "ipython3",
   "version": "3.10.11"
  }
 },
 "nbformat": 4,
 "nbformat_minor": 0
}
