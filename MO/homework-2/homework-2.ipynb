{
 "cells": [
  {
   "cell_type": "markdown",
   "source": [
    "# Домашняя работа 2\n",
    "## Часть 1: Байесовская классификация\n",
    "\n",
    "**Задание 1** \n",
    "*Открыть в Pandas файл `names.csv`. Ответить на вопросы ниже, используя средства языка Python и необходимых библиотек*"
   ],
   "metadata": {
    "collapsed": false
   },
   "id": "abefcca1a3f8ddf7"
  },
  {
   "cell_type": "code",
   "execution_count": 2,
   "outputs": [
    {
     "name": "stdout",
     "output_type": "stream",
     "text": [
      "(258000, 4)\n"
     ]
    },
    {
     "data": {
      "text/plain": "   year     name   percent  sex\n0  1880     John  0.081541  boy\n1  1880  William  0.080511  boy\n2  1880    James  0.050057  boy\n3  1880  Charles  0.045167  boy\n4  1880   George  0.043292  boy",
      "text/html": "<div>\n<style scoped>\n    .dataframe tbody tr th:only-of-type {\n        vertical-align: middle;\n    }\n\n    .dataframe tbody tr th {\n        vertical-align: top;\n    }\n\n    .dataframe thead th {\n        text-align: right;\n    }\n</style>\n<table border=\"1\" class=\"dataframe\">\n  <thead>\n    <tr style=\"text-align: right;\">\n      <th></th>\n      <th>year</th>\n      <th>name</th>\n      <th>percent</th>\n      <th>sex</th>\n    </tr>\n  </thead>\n  <tbody>\n    <tr>\n      <th>0</th>\n      <td>1880</td>\n      <td>John</td>\n      <td>0.081541</td>\n      <td>boy</td>\n    </tr>\n    <tr>\n      <th>1</th>\n      <td>1880</td>\n      <td>William</td>\n      <td>0.080511</td>\n      <td>boy</td>\n    </tr>\n    <tr>\n      <th>2</th>\n      <td>1880</td>\n      <td>James</td>\n      <td>0.050057</td>\n      <td>boy</td>\n    </tr>\n    <tr>\n      <th>3</th>\n      <td>1880</td>\n      <td>Charles</td>\n      <td>0.045167</td>\n      <td>boy</td>\n    </tr>\n    <tr>\n      <th>4</th>\n      <td>1880</td>\n      <td>George</td>\n      <td>0.043292</td>\n      <td>boy</td>\n    </tr>\n  </tbody>\n</table>\n</div>"
     },
     "execution_count": 2,
     "metadata": {},
     "output_type": "execute_result"
    }
   ],
   "source": [
    "import pandas as pd\n",
    "\n",
    "names_data = pd.read_csv('baby-names.csv')\n",
    "\n",
    "print(names_data.shape)\n",
    "names_data.head()"
   ],
   "metadata": {
    "collapsed": false,
    "ExecuteTime": {
     "end_time": "2023-10-24T08:47:35.121623800Z",
     "start_time": "2023-10-24T08:47:34.908585500Z"
    }
   },
   "id": "f29542963f298550"
  },
  {
   "cell_type": "markdown",
   "source": [
    "**Задание 2** \n",
    "*Разделить данные в выборке на обучающий набор и тестирование (выбор принципа разделения за вами – например, 70% данных в обучении\n",
    "и 30% в тестировании).*"
   ],
   "metadata": {
    "collapsed": false
   },
   "id": "faa618cbf90f09ba"
  },
  {
   "cell_type": "code",
   "execution_count": 3,
   "outputs": [
    {
     "name": "stdout",
     "output_type": "stream",
     "text": [
      "Размер тренировочной выборки: (180600, 2).\n",
      "Размер тестовой выборки: (77400, 2).\n"
     ]
    },
    {
     "data": {
      "text/plain": "            name  sex\n82546   Thaddeus  boy\n118648   Shannon  boy\n15196       Alva  boy\n34177       Lyle  boy\n17628       June  boy",
      "text/html": "<div>\n<style scoped>\n    .dataframe tbody tr th:only-of-type {\n        vertical-align: middle;\n    }\n\n    .dataframe tbody tr th {\n        vertical-align: top;\n    }\n\n    .dataframe thead th {\n        text-align: right;\n    }\n</style>\n<table border=\"1\" class=\"dataframe\">\n  <thead>\n    <tr style=\"text-align: right;\">\n      <th></th>\n      <th>name</th>\n      <th>sex</th>\n    </tr>\n  </thead>\n  <tbody>\n    <tr>\n      <th>82546</th>\n      <td>Thaddeus</td>\n      <td>boy</td>\n    </tr>\n    <tr>\n      <th>118648</th>\n      <td>Shannon</td>\n      <td>boy</td>\n    </tr>\n    <tr>\n      <th>15196</th>\n      <td>Alva</td>\n      <td>boy</td>\n    </tr>\n    <tr>\n      <th>34177</th>\n      <td>Lyle</td>\n      <td>boy</td>\n    </tr>\n    <tr>\n      <th>17628</th>\n      <td>June</td>\n      <td>boy</td>\n    </tr>\n  </tbody>\n</table>\n</div>"
     },
     "execution_count": 3,
     "metadata": {},
     "output_type": "execute_result"
    }
   ],
   "source": [
    "from sklearn.model_selection import train_test_split\n",
    "\n",
    "names_data_reduced = names_data[['name', 'sex']]\n",
    "\n",
    "train_data, test_data = train_test_split(names_data_reduced,\n",
    "                                         test_size=0.3,\n",
    "                                         random_state=42,\n",
    "                                         stratify=names_data_reduced['sex'])\n",
    "\n",
    "print(f'Размер тренировочной выборки: {train_data.shape}.\\n'\n",
    "      f'Размер тестовой выборки: {test_data.shape}.')\n",
    "\n",
    "train_data.head()"
   ],
   "metadata": {
    "collapsed": false,
    "ExecuteTime": {
     "end_time": "2023-10-24T08:47:42.608869200Z",
     "start_time": "2023-10-24T08:47:40.664323800Z"
    }
   },
   "id": "b29335465c3262cc"
  },
  {
   "cell_type": "markdown",
   "source": [
    "**Задание 3** \n",
    "*Обучить наивную байесовскую классификацию из файла `Sem2.ipynb` (см. вложения) на тренировочном наборе данных. Затем с помощью\n",
    "метода `classify()` разметить имена по полу в тестировочном наборе данных.*"
   ],
   "metadata": {
    "collapsed": false
   },
   "id": "331f0824468b9c9a"
  },
  {
   "cell_type": "code",
   "execution_count": 4,
   "outputs": [
    {
     "data": {
      "text/plain": "(defaultdict(<function __main__.train.<locals>.<lambda>()>,\n             {'boy': 0.5, 'girl': 0.5}),\n defaultdict(<function __main__.train.<locals>.<lambda>()>,\n             {('boy', 's'): 0.07830564784053157,\n              ('boy', 'n'): 0.2145514950166113,\n              ('boy', 'a'): 0.016345514950166114,\n              ('boy', 'e'): 0.13782945736434107,\n              ('boy', 'm'): 0.016334440753045402,\n              ('girl', 'a'): 0.38447397563676633,\n              ('girl', 'h'): 0.024573643410852712,\n              ('boy', 'o'): 0.0640531561461794,\n              ('girl', 'e'): 0.3011295681063123,\n              ('boy', 'd'): 0.07270210409745294,\n              ('boy', 'r'): 0.060398671096345516,\n              ('boy', 'c'): 0.009158361018826135,\n              ('boy', 't'): 0.05179401993355482,\n              ('boy', 'l'): 0.0825359911406423,\n              ('girl', 'r'): 0.011638981173864894,\n              ('girl', 'n'): 0.08035437430786269,\n              ('girl', 'y'): 0.07866002214839424,\n              ('boy', 'y'): 0.11116279069767442,\n              ('girl', 'i'): 0.027751937984496124,\n              ('boy', 'w'): 0.004651162790697674,\n              ('girl', 's'): 0.022558139534883722,\n              ('boy', 'k'): 0.02220376522702104,\n              ('boy', 'b'): 0.003909191583610188,\n              ('girl', 'l'): 0.03533776301218162,\n              ('boy', 'h'): 0.027198228128460688,\n              ('girl', 'o'): 0.005071982281284607,\n              ('boy', 'f'): 0.0036323366555924695,\n              ('boy', 'x'): 0.0045182724252491695,\n              ('boy', 'q'): 0.00012181616832779623,\n              ('boy', 'g'): 0.006212624584717608,\n              ('boy', 'p'): 0.0031450719822812847,\n              ('girl', 'd'): 0.008205980066445183,\n              ('boy', 'z'): 0.002281284606866002,\n              ('girl', 'm'): 0.003034330011074197,\n              ('girl', 'u'): 0.0018272425249169434,\n              ('girl', 't'): 0.011096345514950166,\n              ('boy', 'i'): 0.0054485049833887045,\n              ('girl', 'k'): 0.0009191583610188262,\n              ('girl', 'w'): 0.00044296788482834997,\n              ('girl', 'z'): 0.001805094130675526,\n              ('boy', 'u'): 0.0009191583610188262,\n              ('boy', 'v'): 0.0004872646733111849,\n              ('girl', 'c'): 0.0002990033222591362,\n              ('girl', 'g'): 0.0004983388704318936,\n              ('boy', 'j'): 9.966777408637874e-05,\n              ('girl', 'x'): 0.00021040974529346624,\n              ('girl', 'b'): 7.751937984496124e-05,\n              ('girl', 'v'): 3.322259136212625e-05}))"
     },
     "execution_count": 4,
     "metadata": {},
     "output_type": "execute_result"
    }
   ],
   "source": [
    "from collections import defaultdict\n",
    "from math import log\n",
    "\n",
    "\n",
    "def train(samples):\n",
    "    classes, freq = defaultdict(lambda: 0), defaultdict(lambda: 0)\n",
    "    for feats, label in samples:\n",
    "        classes[label] += 1\n",
    "        for feat in feats:\n",
    "            freq[label, feat] += 1\n",
    "\n",
    "    for label, feat in freq:\n",
    "        freq[label, feat] /= classes[label]\n",
    "    for c in classes:\n",
    "        classes[c] /= len(samples)\n",
    "    return classes, freq\n",
    "\n",
    "\n",
    "def classify(classifier_, feats):\n",
    "    classes, prob = classifier_\n",
    "    return min(classes.keys(),\n",
    "               key=lambda cl: -log(classes[cl]) + sum(-log(prob.get((cl, feat), 10 ** (-7)))\n",
    "                                                      for feat in feats))\n",
    "\n",
    "\n",
    "def get_features(sample):\n",
    "    return sample[-1]\n",
    "\n",
    "\n",
    "train_samples = [(get_features(name), sex)\n",
    "                 for name, sex in zip(train_data['name'],\n",
    "                                      train_data['sex'])]\n",
    "classifier = train(train_samples)\n",
    "classifier"
   ],
   "metadata": {
    "collapsed": false,
    "ExecuteTime": {
     "end_time": "2023-10-24T08:48:09.197812800Z",
     "start_time": "2023-10-24T08:48:09.014537400Z"
    }
   },
   "id": "5ff35c4c3367f226"
  },
  {
   "cell_type": "markdown",
   "source": [
    "**Задание 4** \n",
    "*Посчитайте среднюю долю правильных \"ответов\"классификатора. Какие еще метрики можно построить, чтобы оценить, насколько хорошо справился с задачей данный классификатор?*"
   ],
   "metadata": {
    "collapsed": false
   },
   "id": "5c75dedd0eceef43"
  },
  {
   "cell_type": "code",
   "execution_count": 6,
   "outputs": [
    {
     "name": "stdout",
     "output_type": "stream",
     "text": [
      "Accuracy 0.778\n",
      "Precision: 0.748 \n",
      "Recall: 0.839\n",
      "F1-score: 0.791\n",
      "Матрица ошибок:\n",
      "[[27740 10960]\n",
      " [ 6218 32482]]\n"
     ]
    }
   ],
   "source": [
    "from sklearn.metrics import accuracy_score, precision_score, recall_score, f1_score, confusion_matrix\n",
    "\n",
    "test_samples = [(get_features(name), sex)\n",
    "                for name, sex in zip(test_data['name'],\n",
    "                                     test_data['sex'])]\n",
    "\n",
    "predicted = [classify(classifier, feat) for feat, _ in test_samples]\n",
    "actual = [sex for _, sex in test_samples]\n",
    "\n",
    "accuracy = accuracy_score(actual, predicted)\n",
    "\n",
    "precision = precision_score(actual, predicted, pos_label='boy')\n",
    "recall = recall_score(actual, predicted, pos_label='boy')\n",
    "f1 = f1_score(actual, predicted, pos_label='boy')\n",
    "conf_matrix = confusion_matrix(actual, predicted, labels=['girl', 'boy'])\n",
    "\n",
    "print(f'Accuracy {accuracy:.3f}')\n",
    "print(f'Precision: {precision:.3f} \\n'\n",
    "      f'Recall: {recall:.3f}\\n'\n",
    "      f'F1-score: {f1:.3f}')\n",
    "print(f'Матрица ошибок:\\n{conf_matrix}')"
   ],
   "metadata": {
    "collapsed": false,
    "ExecuteTime": {
     "end_time": "2023-10-24T08:48:38.913559700Z",
     "start_time": "2023-10-24T08:48:36.471237700Z"
    }
   },
   "id": "f4aa8b1951cf0128"
  },
  {
   "cell_type": "markdown",
   "source": [
    "*Классификатор справился довольно хорошо, учитывая, что был использован всего один признак (последняя буква имени), показав точность 77.8%. Также я использовал:*\n",
    "1. *`Precision`(определяет, как много из объектов, которые классификатор отнес к положительному классу, действительно являются положительными)*\n",
    "2. *`Recall`(это доля истинно положительных среди всех реальных положительных)*\n",
    "3. *`F1-score`(гармоническое среднее между точностью и полнотой, которое стремится сбалансировать эти две метрики)*\n",
    "4. *`Confusion Matrix`(показывает, сколько образцов каждого класса было классифицировано верно и сколько было ошибочно классифицировано).*"
   ],
   "metadata": {
    "collapsed": false
   },
   "id": "ae3eebc476b61eb2"
  },
  {
   "cell_type": "markdown",
   "source": [
    "**Задание 5** \n",
    "*Модифицируйте функцию get_features() таким образом, чтобы в качестве целевого признака бралась другая структура (не последняя буква имени). Возможно, это будет набор из первой и последней буквы. Или, например, имя целиком...*\n"
   ],
   "metadata": {
    "collapsed": false
   },
   "id": "1300da55ee06e25d"
  },
  {
   "cell_type": "code",
   "execution_count": 7,
   "outputs": [
    {
     "name": "stdout",
     "output_type": "stream",
     "text": [
      "Accuracy_modified: 0.781\n"
     ]
    }
   ],
   "source": [
    "def get_features_modified(sample):\n",
    "    return sample[0], sample[-1]\n",
    "\n",
    "\n",
    "train_samples_modified = [(get_features_modified(name), sex) for name, sex in\n",
    "                          zip(train_data['name'], train_data['sex'])]\n",
    "\n",
    "classifier_modified = train(train_samples_modified)\n",
    "\n",
    "test_samples_modified = [(get_features_modified(name), sex) for name, sex in\n",
    "                         zip(test_data['name'], test_data['sex'])]\n",
    "\n",
    "predicted_modified = [classify(classifier_modified, feat) for feat, _ in test_samples_modified]\n",
    "actual_modified = [sex for _, sex in test_samples_modified]\n",
    "\n",
    "accuracy_modified = accuracy_score(actual_modified, predicted_modified)\n",
    "print(f'Accuracy_modified: {accuracy_modified:.3f}')\n",
    "# classifier_modified"
   ],
   "metadata": {
    "collapsed": false,
    "ExecuteTime": {
     "end_time": "2023-10-24T08:48:47.583426Z",
     "start_time": "2023-10-24T08:48:46.524413800Z"
    }
   },
   "id": "95212cc5b566ae0f"
  },
  {
   "cell_type": "markdown",
   "source": [
    "**Задание 6** \n",
    "*Модифицируйте метод `classify()` так, чтобы вместо логарифмов брались исходные значения вероятностей, а вместо `argmin(...)` считался функционал `argmax(...)`. Также можете использовать другой метод классификации (из лекций или учебников, или модифицировать его самому методом проб и ошибок).*"
   ],
   "metadata": {
    "collapsed": false
   },
   "id": "f6558b589442944f"
  },
  {
   "cell_type": "code",
   "execution_count": 8,
   "outputs": [
    {
     "name": "stdout",
     "output_type": "stream",
     "text": [
      "Accuracy_modified_2: 0.781\n",
      "Разность: 0.003%\n"
     ]
    }
   ],
   "source": [
    "def classify_modified(classifier_, feats):\n",
    "    classes, prob = classifier_\n",
    "    return max(classes.keys(),\n",
    "               key=lambda cl: classes[cl] * prod(prob.get((cl, feat), 10 ** (-7)) for feat in feats))\n",
    "\n",
    "\n",
    "# Вспомогательная функция для вычисления произведения элементов итерируемого объекта\n",
    "def prod(iterable):\n",
    "    result = 1\n",
    "    for el in iterable:\n",
    "        result *= el\n",
    "    return result\n",
    "\n",
    "\n",
    "predicted_modified_2 = [classify_modified(classifier_modified, feat) for feat, _ in test_samples_modified]\n",
    "accuracy_modified_2 = accuracy_score(actual_modified, predicted_modified_2)\n",
    "print(f'Accuracy_modified_2: {accuracy_modified_2:.3f}')\n",
    "print(f'Разность: {(accuracy_modified_2 - accuracy):.3f}%')"
   ],
   "metadata": {
    "collapsed": false,
    "ExecuteTime": {
     "end_time": "2023-10-24T08:49:38.066088700Z",
     "start_time": "2023-10-24T08:49:37.760822900Z"
    }
   },
   "id": "e1ef68a3903b4fa3"
  },
  {
   "cell_type": "markdown",
   "source": [
    "**Задание 7** \n",
    "*Улучшилась ли доля правильных ответов алгоритма после модификации целевого признака и метода `classify()`? Какие выводы можно\n",
    "сделать о выборе целевых признаков и о влиянии классифицирующей функции на результат алгоритма?*\n",
    "**Ответ**\n",
    "*Да, доля правильных ответов улучшилась на $0.003\\%$ после модификации целевого признака, это подтверждает, что выбор подходящих признаков крайне важен, можно попробовать подобрать ещё более точные признаки. Но модификация функции `classify()` не изменила результат, это показывает, что не все изменения методов классификации улучшают результаты.* \n",
    "\n",
    "\n",
    "\n",
    "**Задание 8** \n",
    "*Запустите гауссовский и мультиномиальный классификатор методами из `sklearn.naive_bayes`. Насколько точна классификация в данном случае? Какой из трех методов оказался точнее (наивный, гауссовский или мультиномиальный)?*"
   ],
   "metadata": {
    "collapsed": false
   },
   "id": "a3a832a9973de4d8"
  },
  {
   "cell_type": "code",
   "execution_count": 9,
   "outputs": [
    {
     "name": "stdout",
     "output_type": "stream",
     "text": [
      "Доля правильных ответов с помощью Гауссовского классификатора: 0.687\n",
      "Доля правильных ответов с помощью мультиноминального классификатора: 0.731\n"
     ]
    }
   ],
   "source": [
    "from sklearn.naive_bayes import GaussianNB, MultinomialNB\n",
    "from sklearn.preprocessing import LabelEncoder\n",
    "from sklearn.feature_extraction.text import CountVectorizer\n",
    "\n",
    "# Преобразование категориальных признаков в числовые\n",
    "encoder = LabelEncoder()\n",
    "\n",
    "# Используем обе буквы (первую и последнюю) как признаки\n",
    "X_train = [f\"{name[0]}{name[-1]}\" for name in train_data['name']]\n",
    "X_test = [f\"{name[0]}{name[-1]}\" for name in test_data['name']]\n",
    "\n",
    "# Используем CountVectorizer для преобразования букв в числовой формат, подходящий для MultinomialNB\n",
    "vectorizer = CountVectorizer(analyzer='char', ngram_range=(1, 1))\n",
    "X_train_multinom = vectorizer.fit_transform(X_train).toarray()\n",
    "X_test_multinom = vectorizer.transform(X_test).toarray()\n",
    "\n",
    "# Кодируем метки классов\n",
    "y_train = encoder.fit_transform(train_data['sex'])\n",
    "y_test = encoder.transform(test_data['sex'])\n",
    "\n",
    "# Обучение классификаторов\n",
    "gnb = GaussianNB().fit(X_train_multinom, y_train)\n",
    "mnb = MultinomialNB().fit(X_train_multinom, y_train)\n",
    "\n",
    "# Оценка точности\n",
    "accuracy_gnb = gnb.score(X_test_multinom, y_test)\n",
    "accuracy_mnb = mnb.score(X_test_multinom, y_test)\n",
    "\n",
    "print(f'Доля правильных ответов с помощью Гауссовского классификатора: {accuracy_gnb:.3f}\\n'\n",
    "      f'Доля правильных ответов с помощью мультиноминального классификатора: {accuracy_mnb:.3f}')"
   ],
   "metadata": {
    "collapsed": false,
    "ExecuteTime": {
     "end_time": "2023-10-24T08:49:56.968080900Z",
     "start_time": "2023-10-24T08:49:54.955540100Z"
    }
   },
   "id": "246b7621fd7e1723"
  },
  {
   "cell_type": "markdown",
   "source": [
    "*Данные классификации не очень точно. Если сравнить результаты с Байесовским классификатором (Доля правильных ответов $= 78.1\\%$), можно сделать вывод, что наша реализация самая точная, потом идёт Мультиноминальная($73.1\\%$), а после Гауссовская($68.7\\%$).*"
   ],
   "metadata": {
    "collapsed": false
   },
   "id": "dfc81cccd27d6173"
  },
  {
   "cell_type": "markdown",
   "source": [
    "## Часть 2: Классификация Ирисов\n",
    "\n",
    "*Теперь возьмем датасет, содержащий описание цветков ириса и их классификацию по сортам (Setosa, Versicolour, Virginica). Этот набор данных содержится в `sklearn.datasets.load_iris()`.*\n",
    "\n",
    "**Задача 1**\n",
    "*Разделите данные на обучение и тестировку (аналогично заданию 1).*"
   ],
   "metadata": {
    "collapsed": false
   },
   "id": "b309631531b091e3"
  },
  {
   "cell_type": "code",
   "execution_count": 10,
   "outputs": [
    {
     "data": {
      "text/plain": "((105, 4), (45, 4), (105,), (45,))"
     },
     "execution_count": 10,
     "metadata": {},
     "output_type": "execute_result"
    }
   ],
   "source": [
    "from sklearn.datasets import load_iris\n",
    "from sklearn.model_selection import train_test_split\n",
    "from sklearn.discriminant_analysis import LinearDiscriminantAnalysis\n",
    "from sklearn.metrics import accuracy_score, confusion_matrix, classification_report\n",
    "import numpy as np\n",
    "\n",
    "iris = load_iris()\n",
    "X, y = iris.data, iris.target\n",
    "\n",
    "# Разделение данных на обучающую и тестовую выборки\n",
    "X_train, X_test, y_train, y_test = train_test_split(X, y, test_size=0.3, random_state=42)\n",
    "\n",
    "# Проверка размеров получившихся выборок\n",
    "(X_train.shape, X_test.shape, y_train.shape, y_test.shape)"
   ],
   "metadata": {
    "collapsed": false,
    "ExecuteTime": {
     "end_time": "2023-10-24T08:50:27.070939600Z",
     "start_time": "2023-10-24T08:50:26.796832400Z"
    }
   },
   "id": "416bb13a004d8fa2"
  },
  {
   "cell_type": "markdown",
   "source": [
    "**Задача 2**\n",
    "*С помощью метода `LDA` (линейный дискриминантный анализ) реализуйте классификацию сортов ириса на основании признаков датасета. По метрикам из задания 1 оцените эффективность классификатора*"
   ],
   "metadata": {
    "collapsed": false
   },
   "id": "530f75aa135f4627"
  },
  {
   "cell_type": "code",
   "execution_count": 13,
   "outputs": [
    {
     "name": "stdout",
     "output_type": "stream",
     "text": [
      "Матрица ошибок:\n",
      " [[19  0  0]\n",
      " [ 0 13  0]\n",
      " [ 0  0 13]]\n",
      "Доля правильных ответов: 1.0\n",
      "              precision    recall  f1-score   support\n",
      "\n",
      "           0       1.00      1.00      1.00        19\n",
      "           1       1.00      1.00      1.00        13\n",
      "           2       1.00      1.00      1.00        13\n",
      "\n",
      "    accuracy                           1.00        45\n",
      "   macro avg       1.00      1.00      1.00        45\n",
      "weighted avg       1.00      1.00      1.00        45\n"
     ]
    }
   ],
   "source": [
    "# Инициализация и обучение LDA классификатора\n",
    "lda = LinearDiscriminantAnalysis().fit(X_train, y_train)\n",
    "# Прогнозируем значения тестовой выборки\n",
    "y_pred = lda.predict(X_test)\n",
    "\n",
    "# Оценка эффективности классификатора\n",
    "accuracy = accuracy_score(y_test, y_pred)\n",
    "conf_matrix = confusion_matrix(y_test, y_pred)\n",
    "class_report = classification_report(y_test, y_pred)\n",
    "\n",
    "print(f'Матрица ошибок:\\n {conf_matrix}')\n",
    "print(f'Доля правильных ответов: {accuracy}')\n",
    "print(class_report)"
   ],
   "metadata": {
    "collapsed": false,
    "ExecuteTime": {
     "end_time": "2023-10-24T08:51:14.769578100Z",
     "start_time": "2023-10-24T08:51:14.745532100Z"
    }
   },
   "id": "ff783ff36b15d83c"
  },
  {
   "cell_type": "markdown",
   "source": [
    "*Результаты показывают, что классификатор LDA из sklearn сработал идеально, не допуская ошибок на тестовых данных, все параметры равны $100\\%$*\n",
    "\n",
    "**Задача 3**\n",
    "\n",
    "*Сравните метод `LDA` из `sklearn.discriminant_analysis` и реализацию из `Sem3.ipynb` (см. вложения)*   "
   ],
   "metadata": {
    "collapsed": false
   },
   "id": "4b34902654f5a288"
  },
  {
   "cell_type": "code",
   "execution_count": 18,
   "outputs": [
    {
     "data": {
      "text/plain": "(1.0,\n 1.0,\n 1.0,\n 1.0,\n array([[19,  0,  0],\n        [ 0, 13,  0],\n        [ 0,  0, 13]], dtype=int64))"
     },
     "execution_count": 18,
     "metadata": {},
     "output_type": "execute_result"
    }
   ],
   "source": [
    "def lda_dimensionality(X, y, k):\n",
    "    '''\n",
    "    X - набор данных, y - метка, k - целевой размер\n",
    "    '''\n",
    "    label_ = list(set(y))\n",
    "\n",
    "    X_classify = {}\n",
    "\n",
    "    for label in label_:\n",
    "        X1 = np.array([X[i] for i in range(len(X)) if y[i] == label])\n",
    "        X_classify[label] = X1\n",
    "\n",
    "    mju = np.mean(X, axis=0)\n",
    "    mju_classify = {}\n",
    "\n",
    "    for label in label_:\n",
    "        mju1 = np.mean(X_classify[label], axis=0)\n",
    "        mju_classify[label] = mju1\n",
    "\n",
    "    Sw = np.zeros((len(mju), len(mju)))  # Вычислить матрицу внутриклассовой дивергенции\n",
    "    for i in label_:\n",
    "        Sw += np.dot((X_classify[i] - mju_classify[i]).T, X_classify[i] - mju_classify[i])\n",
    "\n",
    "    Sb = np.zeros((len(mju), len(mju)))  # Вычислить матрицу внутриклассовой дивергенции\n",
    "    for i in label_:\n",
    "        Sb += len(X_classify[i]) * np.dot((mju_classify[i] - mju).reshape((len(mju), 1)),\n",
    "                                          (mju_classify[i] - mju).reshape((1, len(mju))))\n",
    "\n",
    "    eig_vals, eig_vecs = np.linalg.eig(\n",
    "        np.linalg.inv(Sw).dot(Sb))  # Вычислить собственное значение и собственную матрицу Sw-1 * Sb\n",
    "\n",
    "    # Преобразуйте собственные векторы в вещественные\n",
    "    eig_vecs = eig_vecs.real\n",
    "\n",
    "    sorted_indices = np.argsort(eig_vals)\n",
    "    topk_eig_vecs = eig_vecs[:, sorted_indices[:-k - 1:-1]]  # Извлекаем первые k векторов признаков\n",
    "    return topk_eig_vecs\n",
    "\n",
    "\n",
    "# Применяем функцию LDA_dimensionality для понижения размерности\n",
    "W = lda_dimensionality(X_train, y_train, 2)\n",
    "X_train_lda = np.dot(X_train, W)\n",
    "X_test_lda = np.dot(X_test, W)\n",
    "\n",
    "# Применяем LDA из sklearn для классификации на преобразованных данных\n",
    "lda_transformed = LinearDiscriminantAnalysis()\n",
    "lda_transformed.fit(X_train_lda, y_train)\n",
    "y_pred_lda_transformed = lda_transformed.predict(X_test_lda)\n",
    "\n",
    "# Оцениваем модель на преобразованных данных\n",
    "accuracy_transformed = accuracy_score(y_test, y_pred_lda_transformed)\n",
    "precision_transformed = precision_score(y_test, y_pred_lda_transformed, average='weighted')\n",
    "recall_transformed = recall_score(y_test, y_pred_lda_transformed, average='weighted')\n",
    "f1_transformed = f1_score(y_test, y_pred_lda_transformed, average='weighted')\n",
    "conf_matrix_transformed = confusion_matrix(y_test, y_pred_lda_transformed)\n",
    "\n",
    "accuracy_transformed, precision_transformed, recall_transformed, f1_transformed, conf_matrix_transformed\n"
   ],
   "metadata": {
    "collapsed": false,
    "ExecuteTime": {
     "end_time": "2023-10-24T08:57:11.209964100Z",
     "start_time": "2023-10-24T08:57:11.133874400Z"
    }
   },
   "id": "42a278597989e0ca"
  },
  {
   "cell_type": "code",
   "execution_count": 19,
   "outputs": [
    {
     "data": {
      "text/plain": "(1.0,\n 1.0,\n 1.0,\n 1.0,\n array([[19,  0,  0],\n        [ 0, 13,  0],\n        [ 0,  0, 13]], dtype=int64))"
     },
     "execution_count": 19,
     "metadata": {},
     "output_type": "execute_result"
    }
   ],
   "source": [
    "# Изменяем параметры LDA и оцениваем производительность модели\n",
    "lda_shrinkage = LinearDiscriminantAnalysis(solver='lsqr', shrinkage='auto')\n",
    "lda_shrinkage.fit(X_train, y_train)\n",
    "y_pred_shrinkage = lda_shrinkage.predict(X_test)\n",
    "\n",
    "# Оценка модели\n",
    "accuracy_shrinkage = accuracy_score(y_test, y_pred_shrinkage)\n",
    "precision_shrinkage = precision_score(y_test, y_pred_shrinkage, average='weighted')\n",
    "recall_shrinkage = recall_score(y_test, y_pred_shrinkage, average='weighted')\n",
    "f1_shrinkage = f1_score(y_test, y_pred_shrinkage, average='weighted')\n",
    "conf_matrix_shrinkage = confusion_matrix(y_test, y_pred_shrinkage)\n",
    "\n",
    "accuracy_shrinkage, precision_shrinkage, recall_shrinkage, f1_shrinkage, conf_matrix_shrinkage\n"
   ],
   "metadata": {
    "collapsed": false,
    "ExecuteTime": {
     "end_time": "2023-10-24T08:57:13.078509300Z",
     "start_time": "2023-10-24T08:57:13.028644Z"
    }
   },
   "id": "57c7b68e192d0687"
  },
  {
   "cell_type": "markdown",
   "source": [
    "1. Сравнение метода LDA из sklearn.discriminant_analysis и реализации функции LDA_dimensionality:\n",
    "\n",
    "   - Метод LDA из `sklearn.discriminant_analysis` представляет готовую реализацию LDA, которая автоматически обрабатывает классы, рассчитывает собственные значения и вектора, также применяет проекцию данных. Это более удобный способ использования LDA, особенно для задач классификации. Думаю, что данный метод на больших данных работает быстрее из-за оптимизаций.\n",
    "   \n",
    "   - Реализация `LDA_dimensionality`, представляет собой более низкоуровневую реализацию LDA, в которой вручную вычисляются собственные значения и векторы, а затем они применяются для проекции данных. Это предоставляет большую гибкость и контроль, но также требует больше усилий для реализации и может быть менее эффективным.\n",
    "\n",
    "2. Рассмотрение параметров метода LDA:\n",
    "\n",
    "   Метод LDA из `sklearn.discriminant_analysis` имеет несколько параметров, которые могут сильно влиять на его эффективность:\n",
    "\n",
    "   - `solver`: Этот параметр определяет метод, используемый для вычисления собственных значений и векторов. В зависимости от данных и размерности пространства признаков, разные методы могут быть более или менее эффективными. Например, `solver='eigen'` использует вычислительно затратный метод вычисления всех собственных значений, в то время как `solver='lsqr'` использует метод наименьших квадратов. Выбор правильного метода может значительно повлиять на производительность.\n",
    "\n",
    "   - `shrinkage`: Этот параметр определяет метод регуляризации для случая, когда классы могут быть линейно зависимыми или когда у вас мало обучающих примеров. Это также может сильно влиять на производительность и стабильность метода.\n",
    "\n",
    "   - `n_components`: Этот параметр позволяет установить количество компонент, которые вы хотите извлечь из LDA. Выбор правильного количества компонент также может повлиять на конечный результат.\n",
    "\n",
    "\n",
    "\n",
    "(Я немного изменил семинарскую функцию, так как она не была ошибка ComplexWarning)\n"
   ],
   "metadata": {
    "collapsed": false
   },
   "id": "6d5a44e1c7b0d2ca"
  }
 ],
 "metadata": {
  "kernelspec": {
   "display_name": "Python 3",
   "language": "python",
   "name": "python3"
  },
  "language_info": {
   "codemirror_mode": {
    "name": "ipython",
    "version": 2
   },
   "file_extension": ".py",
   "mimetype": "text/x-python",
   "name": "python",
   "nbconvert_exporter": "python",
   "pygments_lexer": "ipython2",
   "version": "2.7.6"
  }
 },
 "nbformat": 4,
 "nbformat_minor": 5
}
